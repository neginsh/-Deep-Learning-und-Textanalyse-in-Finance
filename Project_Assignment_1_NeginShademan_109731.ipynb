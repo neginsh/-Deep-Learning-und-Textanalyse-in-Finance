{
  "nbformat": 4,
  "nbformat_minor": 0,
  "metadata": {
    "colab": {
      "provenance": [],
      "collapsed_sections": [
        "-hAP4PAh6SWY",
        "nrwZMYNg6ItO",
        "JK_wZGTY-iu5",
        "sGU2IQ4ZY9De",
        "sgLWrPhnZvNL",
        "-6hvp5I8jk-Z",
        "SXMIuRSyjBlN",
        "xQe6l7QMuWc7",
        "5QTpGTYVhmZV"
      ],
      "include_colab_link": true
    },
    "kernelspec": {
      "name": "python3",
      "display_name": "Python 3"
    },
    "language_info": {
      "name": "python"
    }
  },
  "cells": [
    {
      "cell_type": "markdown",
      "metadata": {
        "id": "view-in-github",
        "colab_type": "text"
      },
      "source": [
        "<a href=\"https://colab.research.google.com/github/neginsh/Deep-Learning-und-Textanalyse-in-Finance/blob/main/Project_Assignment_1_NeginShademan_109731.ipynb\" target=\"_parent\"><img src=\"https://colab.research.google.com/assets/colab-badge.svg\" alt=\"Open In Colab\"/></a>"
      ]
    },
    {
      "cell_type": "markdown",
      "source": [
        "Deadline: 21.12.2022 2pm (14:00)\n",
        "\n",
        "Tasks:\n",
        "\n",
        "\n",
        "1.   Send an email with your Name and user-id to lukas.marx@uni-passau.de afterwards you will receive your personal dataset for this assignment.\n",
        "2.   Import the three datasets (training, validation and test) into a google colab and analyze your given data set. Your target variable will be \"discr_r\".\n",
        "3.   Generate a Linear Regression model as a benchmark and evaluate it (for comparison the mean absolute error as a performance metric is suggested). \n",
        "4.   Generate a neural network with an arbitrary choice of hyperparameters in order to perform a comparable task to the linear regression model and evaluate it. \n",
        "5.   Compare the feature importance for the benchmark and the baseline neural network.\n",
        "6.   Perform hyperparameter tuning with Optuna in order to generate a better performing neural network. \n",
        "7.   Evaluate its results and compare them as well as the feature importance to the benchmark and the baseline neural network. \n",
        "8.   Describe your results for all three models and explain what your results means with respect to $(R_{Mt} - R_{ft})$ , SMB and HML.\n",
        "9.   Hand in your single colab Notebook to lukas.marx@uni-passau.de until the above mentioned deadline. \n",
        "\n"
      ],
      "metadata": {
        "id": "pxsNqb9E41tk"
      }
    },
    {
      "cell_type": "markdown",
      "source": [
        "Negin Shademan\n",
        "\n",
        "Matrikelnummer:\n",
        "109731\n",
        "\n",
        "\n",
        "---\n",
        "\n",
        "\n",
        "\n",
        "# introduction\n",
        "\n",
        "In this assignment, we aim to predict discr_r based on the book to market ratio, market capitalization, and beta. In order to solve our prediction problem, a linear regression model and a neural network have been trained. We will use the linear regression model as a benchmark and compare the neural network to it in order to evaluate its performance.\n",
        "\n",
        "\n"
      ],
      "metadata": {
        "id": "KAgf9D5DUQRq"
      }
    },
    {
      "cell_type": "markdown",
      "source": [
        "# Loading the dataset\n",
        "\n",
        "Python is a fantastic language with many amazing libraries that help programmers tackle any problem. First, the required modules should be imported. After loading the necessary modules, we need to load the datasets. "
      ],
      "metadata": {
        "id": "-hAP4PAh6SWY"
      }
    },
    {
      "cell_type": "code",
      "source": [
        "# imports\n",
        "!pip install optuna\n",
        "\n",
        "import numpy as np\n",
        "import pandas as pd\n",
        "import pylab as pl\n",
        "import matplotlib.gridspec as gridspec\n",
        "from matplotlib import pyplot as plt\n",
        "import scipy.stats as scs\n",
        "from scipy.stats import zscore\n",
        "from sklearn.decomposition import PCA\n",
        "from sklearn.preprocessing import StandardScaler\n",
        "import seaborn as sns\n",
        "\n",
        "from sklearn.model_selection import train_test_split\n",
        "from sklearn import preprocessing\n",
        "from sklearn.metrics import confusion_matrix, accuracy_score, classification_report, r2_score, mean_absolute_error as mae\n",
        "from sklearn.linear_model import LinearRegression\n",
        "from pydotplus import graph_from_dot_data\n",
        "from sklearn.preprocessing import MinMaxScaler\n",
        "from sklearn.metrics.cluster import homogeneity_score \n",
        "\n",
        "from keras.wrappers.scikit_learn import KerasClassifier\n",
        "from sklearn.model_selection import cross_val_score\n",
        "from keras.models import Sequential \n",
        "from keras.layers import Dense \n",
        "import tensorflow as tf\n",
        "from tensorflow import keras\n",
        "from tensorflow.keras import layers\n",
        "\n",
        "import optuna\n",
        "from optuna.integration import TFKerasPruningCallback\n",
        "from optuna.trial import TrialState\n",
        "from optuna.visualization import plot_intermediate_values\n",
        "from optuna.visualization import plot_optimization_history"
      ],
      "metadata": {
        "id": "sqEpkatJ38QP",
        "colab": {
          "base_uri": "https://localhost:8080/"
        },
        "outputId": "cf6344ea-9f20-43d0-d9c6-23987aaaa089"
      },
      "execution_count": null,
      "outputs": [
        {
          "output_type": "stream",
          "name": "stdout",
          "text": [
            "Looking in indexes: https://pypi.org/simple, https://us-python.pkg.dev/colab-wheels/public/simple/\n",
            "Requirement already satisfied: optuna in /usr/local/lib/python3.8/dist-packages (3.0.5)\n",
            "Requirement already satisfied: importlib-metadata<5.0.0 in /usr/local/lib/python3.8/dist-packages (from optuna) (4.13.0)\n",
            "Requirement already satisfied: packaging>=20.0 in /usr/local/lib/python3.8/dist-packages (from optuna) (21.3)\n",
            "Requirement already satisfied: PyYAML in /usr/local/lib/python3.8/dist-packages (from optuna) (6.0)\n",
            "Requirement already satisfied: tqdm in /usr/local/lib/python3.8/dist-packages (from optuna) (4.64.1)\n",
            "Requirement already satisfied: numpy in /usr/local/lib/python3.8/dist-packages (from optuna) (1.21.6)\n",
            "Requirement already satisfied: scipy<1.9.0,>=1.7.0 in /usr/local/lib/python3.8/dist-packages (from optuna) (1.7.3)\n",
            "Requirement already satisfied: alembic>=1.5.0 in /usr/local/lib/python3.8/dist-packages (from optuna) (1.9.0)\n",
            "Requirement already satisfied: sqlalchemy>=1.3.0 in /usr/local/lib/python3.8/dist-packages (from optuna) (1.4.45)\n",
            "Requirement already satisfied: cliff in /usr/local/lib/python3.8/dist-packages (from optuna) (4.1.0)\n",
            "Requirement already satisfied: cmaes>=0.8.2 in /usr/local/lib/python3.8/dist-packages (from optuna) (0.9.0)\n",
            "Requirement already satisfied: colorlog in /usr/local/lib/python3.8/dist-packages (from optuna) (6.7.0)\n",
            "Requirement already satisfied: Mako in /usr/local/lib/python3.8/dist-packages (from alembic>=1.5.0->optuna) (1.2.4)\n",
            "Requirement already satisfied: importlib-resources in /usr/local/lib/python3.8/dist-packages (from alembic>=1.5.0->optuna) (5.10.1)\n",
            "Requirement already satisfied: zipp>=0.5 in /usr/local/lib/python3.8/dist-packages (from importlib-metadata<5.0.0->optuna) (3.11.0)\n",
            "Requirement already satisfied: pyparsing!=3.0.5,>=2.0.2 in /usr/local/lib/python3.8/dist-packages (from packaging>=20.0->optuna) (3.0.9)\n",
            "Requirement already satisfied: greenlet!=0.4.17 in /usr/local/lib/python3.8/dist-packages (from sqlalchemy>=1.3.0->optuna) (2.0.1)\n",
            "Requirement already satisfied: stevedore>=2.0.1 in /usr/local/lib/python3.8/dist-packages (from cliff->optuna) (4.1.1)\n",
            "Requirement already satisfied: PrettyTable>=0.7.2 in /usr/local/lib/python3.8/dist-packages (from cliff->optuna) (3.5.0)\n",
            "Requirement already satisfied: cmd2>=1.0.0 in /usr/local/lib/python3.8/dist-packages (from cliff->optuna) (2.4.2)\n",
            "Requirement already satisfied: autopage>=0.4.0 in /usr/local/lib/python3.8/dist-packages (from cliff->optuna) (0.5.1)\n",
            "Requirement already satisfied: attrs>=16.3.0 in /usr/local/lib/python3.8/dist-packages (from cmd2>=1.0.0->cliff->optuna) (22.1.0)\n",
            "Requirement already satisfied: wcwidth>=0.1.7 in /usr/local/lib/python3.8/dist-packages (from cmd2>=1.0.0->cliff->optuna) (0.2.5)\n",
            "Requirement already satisfied: pyperclip>=1.6 in /usr/local/lib/python3.8/dist-packages (from cmd2>=1.0.0->cliff->optuna) (1.8.2)\n",
            "Requirement already satisfied: pbr!=2.1.0,>=2.0.0 in /usr/local/lib/python3.8/dist-packages (from stevedore>=2.0.1->cliff->optuna) (5.11.0)\n",
            "Requirement already satisfied: MarkupSafe>=0.9.2 in /usr/local/lib/python3.8/dist-packages (from Mako->alembic>=1.5.0->optuna) (2.0.1)\n"
          ]
        }
      ]
    },
    {
      "cell_type": "code",
      "source": [
        "from google.colab import drive\n",
        "drive.mount('/content/drive')"
      ],
      "metadata": {
        "colab": {
          "base_uri": "https://localhost:8080/"
        },
        "id": "_Xb6xP6E5Ffz",
        "outputId": "38f775a3-62db-40ed-d1dd-cfaae24d3e64"
      },
      "execution_count": null,
      "outputs": [
        {
          "output_type": "stream",
          "name": "stdout",
          "text": [
            "Drive already mounted at /content/drive; to attempt to forcibly remount, call drive.mount(\"/content/drive\", force_remount=True).\n"
          ]
        }
      ]
    },
    {
      "cell_type": "code",
      "source": [
        "train = pd.read_csv('/content/drive/MyDrive/train_data-7.csv')\n",
        "validation = pd.read_csv('/content/drive/MyDrive/validation_data-7.csv')\n",
        "test = pd.read_csv('/content/drive/MyDrive/test_data-8.csv')"
      ],
      "metadata": {
        "id": "qqiX7XRC5NW0"
      },
      "execution_count": null,
      "outputs": []
    },
    {
      "cell_type": "markdown",
      "source": [
        "# Analysis of dataset\n",
        "\n",
        "\n",
        "\n",
        "First of all, we need to understand our features.\n",
        "\n",
        "\n",
        "\n",
        "\n",
        "*   The **book-to-market ratio** is a measure of a company's value, which is determined by comparing the firm's book value to its market value. The book value is determined by evaluating the company's historical cost, or accounting value. The market value is determined by the firm's share price in the stock market and the number of shares it has outstanding, which is its market capitalization. This ratio provides insight into the company's financial standing.\n",
        "*   A company's **market capitalization** is determined by multiplying its share price by the number of shares available for public trading. This figure\n",
        "indicates how valuable the company is.\n",
        "*   **Beta coefficients** are used to measure an individual stock's volatility compared to the systematic risk of the entire market. This can be calculated statistically by determining the slope of a line generated from the regression of data points. Each of these points represents the stock's returns, with a higher beta indicating greater volatility.\n",
        "*   The **Unnamed: 0** column has the same value for every row in our dataset. Since this feature does not add any information and does not help our models, it can be dropped.\n",
        "\n",
        "As can be seen based on the statistics of our features, they all need to be normalized. Additionally, none of the features are missing any data.\n",
        "\n",
        "\n",
        "\n",
        "\n",
        "\n",
        "\n"
      ],
      "metadata": {
        "id": "nrwZMYNg6ItO"
      }
    },
    {
      "cell_type": "code",
      "source": [
        "train"
      ],
      "metadata": {
        "colab": {
          "base_uri": "https://localhost:8080/",
          "height": 424
        },
        "id": "ND_wHPV6579D",
        "outputId": "8a58802e-c2ca-4325-f66e-f00ec7161c78"
      },
      "execution_count": null,
      "outputs": [
        {
          "output_type": "execute_result",
          "data": {
            "text/plain": [
              "      Unnamed: 0  book_to_market    market_cap      beta   discr_r\n",
              "0     2021-11-30        1.642382  1.335463e+10  0.819613  0.033268\n",
              "1     2021-11-30        0.453856  1.431724e+08  0.943742 -0.005373\n",
              "2     2021-11-30        0.631227  1.714446e+11  1.168996 -0.077447\n",
              "3     2021-11-30        0.848057  1.258033e+10  0.203464 -0.023911\n",
              "4     2021-11-30       -0.199602  6.249585e+08  1.679656 -0.057286\n",
              "...          ...             ...           ...       ...       ...\n",
              "4878  2021-11-30        0.953525  2.171743e+10  0.198624 -0.145500\n",
              "4879  2021-11-30        0.500569  4.913389e+09  2.008379 -0.262887\n",
              "4880  2021-11-30        0.113619  6.558138e+08  1.013179  0.040947\n",
              "4881  2021-11-30        2.826866  2.148416e+09  0.908154 -0.056563\n",
              "4882  2021-11-30        0.044920  1.452099e+10  1.370347  0.247838\n",
              "\n",
              "[4883 rows x 5 columns]"
            ],
            "text/html": [
              "\n",
              "  <div id=\"df-6eae5444-cf4c-4173-b408-57771ca3af38\">\n",
              "    <div class=\"colab-df-container\">\n",
              "      <div>\n",
              "<style scoped>\n",
              "    .dataframe tbody tr th:only-of-type {\n",
              "        vertical-align: middle;\n",
              "    }\n",
              "\n",
              "    .dataframe tbody tr th {\n",
              "        vertical-align: top;\n",
              "    }\n",
              "\n",
              "    .dataframe thead th {\n",
              "        text-align: right;\n",
              "    }\n",
              "</style>\n",
              "<table border=\"1\" class=\"dataframe\">\n",
              "  <thead>\n",
              "    <tr style=\"text-align: right;\">\n",
              "      <th></th>\n",
              "      <th>Unnamed: 0</th>\n",
              "      <th>book_to_market</th>\n",
              "      <th>market_cap</th>\n",
              "      <th>beta</th>\n",
              "      <th>discr_r</th>\n",
              "    </tr>\n",
              "  </thead>\n",
              "  <tbody>\n",
              "    <tr>\n",
              "      <th>0</th>\n",
              "      <td>2021-11-30</td>\n",
              "      <td>1.642382</td>\n",
              "      <td>1.335463e+10</td>\n",
              "      <td>0.819613</td>\n",
              "      <td>0.033268</td>\n",
              "    </tr>\n",
              "    <tr>\n",
              "      <th>1</th>\n",
              "      <td>2021-11-30</td>\n",
              "      <td>0.453856</td>\n",
              "      <td>1.431724e+08</td>\n",
              "      <td>0.943742</td>\n",
              "      <td>-0.005373</td>\n",
              "    </tr>\n",
              "    <tr>\n",
              "      <th>2</th>\n",
              "      <td>2021-11-30</td>\n",
              "      <td>0.631227</td>\n",
              "      <td>1.714446e+11</td>\n",
              "      <td>1.168996</td>\n",
              "      <td>-0.077447</td>\n",
              "    </tr>\n",
              "    <tr>\n",
              "      <th>3</th>\n",
              "      <td>2021-11-30</td>\n",
              "      <td>0.848057</td>\n",
              "      <td>1.258033e+10</td>\n",
              "      <td>0.203464</td>\n",
              "      <td>-0.023911</td>\n",
              "    </tr>\n",
              "    <tr>\n",
              "      <th>4</th>\n",
              "      <td>2021-11-30</td>\n",
              "      <td>-0.199602</td>\n",
              "      <td>6.249585e+08</td>\n",
              "      <td>1.679656</td>\n",
              "      <td>-0.057286</td>\n",
              "    </tr>\n",
              "    <tr>\n",
              "      <th>...</th>\n",
              "      <td>...</td>\n",
              "      <td>...</td>\n",
              "      <td>...</td>\n",
              "      <td>...</td>\n",
              "      <td>...</td>\n",
              "    </tr>\n",
              "    <tr>\n",
              "      <th>4878</th>\n",
              "      <td>2021-11-30</td>\n",
              "      <td>0.953525</td>\n",
              "      <td>2.171743e+10</td>\n",
              "      <td>0.198624</td>\n",
              "      <td>-0.145500</td>\n",
              "    </tr>\n",
              "    <tr>\n",
              "      <th>4879</th>\n",
              "      <td>2021-11-30</td>\n",
              "      <td>0.500569</td>\n",
              "      <td>4.913389e+09</td>\n",
              "      <td>2.008379</td>\n",
              "      <td>-0.262887</td>\n",
              "    </tr>\n",
              "    <tr>\n",
              "      <th>4880</th>\n",
              "      <td>2021-11-30</td>\n",
              "      <td>0.113619</td>\n",
              "      <td>6.558138e+08</td>\n",
              "      <td>1.013179</td>\n",
              "      <td>0.040947</td>\n",
              "    </tr>\n",
              "    <tr>\n",
              "      <th>4881</th>\n",
              "      <td>2021-11-30</td>\n",
              "      <td>2.826866</td>\n",
              "      <td>2.148416e+09</td>\n",
              "      <td>0.908154</td>\n",
              "      <td>-0.056563</td>\n",
              "    </tr>\n",
              "    <tr>\n",
              "      <th>4882</th>\n",
              "      <td>2021-11-30</td>\n",
              "      <td>0.044920</td>\n",
              "      <td>1.452099e+10</td>\n",
              "      <td>1.370347</td>\n",
              "      <td>0.247838</td>\n",
              "    </tr>\n",
              "  </tbody>\n",
              "</table>\n",
              "<p>4883 rows × 5 columns</p>\n",
              "</div>\n",
              "      <button class=\"colab-df-convert\" onclick=\"convertToInteractive('df-6eae5444-cf4c-4173-b408-57771ca3af38')\"\n",
              "              title=\"Convert this dataframe to an interactive table.\"\n",
              "              style=\"display:none;\">\n",
              "        \n",
              "  <svg xmlns=\"http://www.w3.org/2000/svg\" height=\"24px\"viewBox=\"0 0 24 24\"\n",
              "       width=\"24px\">\n",
              "    <path d=\"M0 0h24v24H0V0z\" fill=\"none\"/>\n",
              "    <path d=\"M18.56 5.44l.94 2.06.94-2.06 2.06-.94-2.06-.94-.94-2.06-.94 2.06-2.06.94zm-11 1L8.5 8.5l.94-2.06 2.06-.94-2.06-.94L8.5 2.5l-.94 2.06-2.06.94zm10 10l.94 2.06.94-2.06 2.06-.94-2.06-.94-.94-2.06-.94 2.06-2.06.94z\"/><path d=\"M17.41 7.96l-1.37-1.37c-.4-.4-.92-.59-1.43-.59-.52 0-1.04.2-1.43.59L10.3 9.45l-7.72 7.72c-.78.78-.78 2.05 0 2.83L4 21.41c.39.39.9.59 1.41.59.51 0 1.02-.2 1.41-.59l7.78-7.78 2.81-2.81c.8-.78.8-2.07 0-2.86zM5.41 20L4 18.59l7.72-7.72 1.47 1.35L5.41 20z\"/>\n",
              "  </svg>\n",
              "      </button>\n",
              "      \n",
              "  <style>\n",
              "    .colab-df-container {\n",
              "      display:flex;\n",
              "      flex-wrap:wrap;\n",
              "      gap: 12px;\n",
              "    }\n",
              "\n",
              "    .colab-df-convert {\n",
              "      background-color: #E8F0FE;\n",
              "      border: none;\n",
              "      border-radius: 50%;\n",
              "      cursor: pointer;\n",
              "      display: none;\n",
              "      fill: #1967D2;\n",
              "      height: 32px;\n",
              "      padding: 0 0 0 0;\n",
              "      width: 32px;\n",
              "    }\n",
              "\n",
              "    .colab-df-convert:hover {\n",
              "      background-color: #E2EBFA;\n",
              "      box-shadow: 0px 1px 2px rgba(60, 64, 67, 0.3), 0px 1px 3px 1px rgba(60, 64, 67, 0.15);\n",
              "      fill: #174EA6;\n",
              "    }\n",
              "\n",
              "    [theme=dark] .colab-df-convert {\n",
              "      background-color: #3B4455;\n",
              "      fill: #D2E3FC;\n",
              "    }\n",
              "\n",
              "    [theme=dark] .colab-df-convert:hover {\n",
              "      background-color: #434B5C;\n",
              "      box-shadow: 0px 1px 3px 1px rgba(0, 0, 0, 0.15);\n",
              "      filter: drop-shadow(0px 1px 2px rgba(0, 0, 0, 0.3));\n",
              "      fill: #FFFFFF;\n",
              "    }\n",
              "  </style>\n",
              "\n",
              "      <script>\n",
              "        const buttonEl =\n",
              "          document.querySelector('#df-6eae5444-cf4c-4173-b408-57771ca3af38 button.colab-df-convert');\n",
              "        buttonEl.style.display =\n",
              "          google.colab.kernel.accessAllowed ? 'block' : 'none';\n",
              "\n",
              "        async function convertToInteractive(key) {\n",
              "          const element = document.querySelector('#df-6eae5444-cf4c-4173-b408-57771ca3af38');\n",
              "          const dataTable =\n",
              "            await google.colab.kernel.invokeFunction('convertToInteractive',\n",
              "                                                     [key], {});\n",
              "          if (!dataTable) return;\n",
              "\n",
              "          const docLinkHtml = 'Like what you see? Visit the ' +\n",
              "            '<a target=\"_blank\" href=https://colab.research.google.com/notebooks/data_table.ipynb>data table notebook</a>'\n",
              "            + ' to learn more about interactive tables.';\n",
              "          element.innerHTML = '';\n",
              "          dataTable['output_type'] = 'display_data';\n",
              "          await google.colab.output.renderOutput(dataTable, element);\n",
              "          const docLink = document.createElement('div');\n",
              "          docLink.innerHTML = docLinkHtml;\n",
              "          element.appendChild(docLink);\n",
              "        }\n",
              "      </script>\n",
              "    </div>\n",
              "  </div>\n",
              "  "
            ]
          },
          "metadata": {},
          "execution_count": 8
        }
      ]
    },
    {
      "cell_type": "code",
      "source": [
        "train.describe()"
      ],
      "metadata": {
        "colab": {
          "base_uri": "https://localhost:8080/",
          "height": 300
        },
        "id": "Zjv3KWEs6Qmr",
        "outputId": "9101780c-909d-474a-bb2f-f42c5a1a36d5"
      },
      "execution_count": null,
      "outputs": [
        {
          "output_type": "execute_result",
          "data": {
            "text/plain": [
              "       book_to_market    market_cap         beta      discr_r\n",
              "count    4.883000e+03  4.883000e+03  4883.000000  4883.000000\n",
              "mean     1.394625e+03  8.728675e+11     1.023789    -0.056731\n",
              "std      9.371015e+04  2.459828e+13     0.589268     0.166838\n",
              "min     -5.029241e+02  7.965334e+03    -4.038330    -0.741539\n",
              "25%      1.851428e-01  2.635023e+08     0.662800    -0.127177\n",
              "50%      4.374806e-01  1.372760e+09     1.011370    -0.045614\n",
              "75%      8.777500e-01  6.448128e+09     1.352776     0.005694\n",
              "max      6.545180e+06  1.195600e+15     3.851942     5.761146"
            ],
            "text/html": [
              "\n",
              "  <div id=\"df-09964965-e44a-46d9-9885-39eff0d32477\">\n",
              "    <div class=\"colab-df-container\">\n",
              "      <div>\n",
              "<style scoped>\n",
              "    .dataframe tbody tr th:only-of-type {\n",
              "        vertical-align: middle;\n",
              "    }\n",
              "\n",
              "    .dataframe tbody tr th {\n",
              "        vertical-align: top;\n",
              "    }\n",
              "\n",
              "    .dataframe thead th {\n",
              "        text-align: right;\n",
              "    }\n",
              "</style>\n",
              "<table border=\"1\" class=\"dataframe\">\n",
              "  <thead>\n",
              "    <tr style=\"text-align: right;\">\n",
              "      <th></th>\n",
              "      <th>book_to_market</th>\n",
              "      <th>market_cap</th>\n",
              "      <th>beta</th>\n",
              "      <th>discr_r</th>\n",
              "    </tr>\n",
              "  </thead>\n",
              "  <tbody>\n",
              "    <tr>\n",
              "      <th>count</th>\n",
              "      <td>4.883000e+03</td>\n",
              "      <td>4.883000e+03</td>\n",
              "      <td>4883.000000</td>\n",
              "      <td>4883.000000</td>\n",
              "    </tr>\n",
              "    <tr>\n",
              "      <th>mean</th>\n",
              "      <td>1.394625e+03</td>\n",
              "      <td>8.728675e+11</td>\n",
              "      <td>1.023789</td>\n",
              "      <td>-0.056731</td>\n",
              "    </tr>\n",
              "    <tr>\n",
              "      <th>std</th>\n",
              "      <td>9.371015e+04</td>\n",
              "      <td>2.459828e+13</td>\n",
              "      <td>0.589268</td>\n",
              "      <td>0.166838</td>\n",
              "    </tr>\n",
              "    <tr>\n",
              "      <th>min</th>\n",
              "      <td>-5.029241e+02</td>\n",
              "      <td>7.965334e+03</td>\n",
              "      <td>-4.038330</td>\n",
              "      <td>-0.741539</td>\n",
              "    </tr>\n",
              "    <tr>\n",
              "      <th>25%</th>\n",
              "      <td>1.851428e-01</td>\n",
              "      <td>2.635023e+08</td>\n",
              "      <td>0.662800</td>\n",
              "      <td>-0.127177</td>\n",
              "    </tr>\n",
              "    <tr>\n",
              "      <th>50%</th>\n",
              "      <td>4.374806e-01</td>\n",
              "      <td>1.372760e+09</td>\n",
              "      <td>1.011370</td>\n",
              "      <td>-0.045614</td>\n",
              "    </tr>\n",
              "    <tr>\n",
              "      <th>75%</th>\n",
              "      <td>8.777500e-01</td>\n",
              "      <td>6.448128e+09</td>\n",
              "      <td>1.352776</td>\n",
              "      <td>0.005694</td>\n",
              "    </tr>\n",
              "    <tr>\n",
              "      <th>max</th>\n",
              "      <td>6.545180e+06</td>\n",
              "      <td>1.195600e+15</td>\n",
              "      <td>3.851942</td>\n",
              "      <td>5.761146</td>\n",
              "    </tr>\n",
              "  </tbody>\n",
              "</table>\n",
              "</div>\n",
              "      <button class=\"colab-df-convert\" onclick=\"convertToInteractive('df-09964965-e44a-46d9-9885-39eff0d32477')\"\n",
              "              title=\"Convert this dataframe to an interactive table.\"\n",
              "              style=\"display:none;\">\n",
              "        \n",
              "  <svg xmlns=\"http://www.w3.org/2000/svg\" height=\"24px\"viewBox=\"0 0 24 24\"\n",
              "       width=\"24px\">\n",
              "    <path d=\"M0 0h24v24H0V0z\" fill=\"none\"/>\n",
              "    <path d=\"M18.56 5.44l.94 2.06.94-2.06 2.06-.94-2.06-.94-.94-2.06-.94 2.06-2.06.94zm-11 1L8.5 8.5l.94-2.06 2.06-.94-2.06-.94L8.5 2.5l-.94 2.06-2.06.94zm10 10l.94 2.06.94-2.06 2.06-.94-2.06-.94-.94-2.06-.94 2.06-2.06.94z\"/><path d=\"M17.41 7.96l-1.37-1.37c-.4-.4-.92-.59-1.43-.59-.52 0-1.04.2-1.43.59L10.3 9.45l-7.72 7.72c-.78.78-.78 2.05 0 2.83L4 21.41c.39.39.9.59 1.41.59.51 0 1.02-.2 1.41-.59l7.78-7.78 2.81-2.81c.8-.78.8-2.07 0-2.86zM5.41 20L4 18.59l7.72-7.72 1.47 1.35L5.41 20z\"/>\n",
              "  </svg>\n",
              "      </button>\n",
              "      \n",
              "  <style>\n",
              "    .colab-df-container {\n",
              "      display:flex;\n",
              "      flex-wrap:wrap;\n",
              "      gap: 12px;\n",
              "    }\n",
              "\n",
              "    .colab-df-convert {\n",
              "      background-color: #E8F0FE;\n",
              "      border: none;\n",
              "      border-radius: 50%;\n",
              "      cursor: pointer;\n",
              "      display: none;\n",
              "      fill: #1967D2;\n",
              "      height: 32px;\n",
              "      padding: 0 0 0 0;\n",
              "      width: 32px;\n",
              "    }\n",
              "\n",
              "    .colab-df-convert:hover {\n",
              "      background-color: #E2EBFA;\n",
              "      box-shadow: 0px 1px 2px rgba(60, 64, 67, 0.3), 0px 1px 3px 1px rgba(60, 64, 67, 0.15);\n",
              "      fill: #174EA6;\n",
              "    }\n",
              "\n",
              "    [theme=dark] .colab-df-convert {\n",
              "      background-color: #3B4455;\n",
              "      fill: #D2E3FC;\n",
              "    }\n",
              "\n",
              "    [theme=dark] .colab-df-convert:hover {\n",
              "      background-color: #434B5C;\n",
              "      box-shadow: 0px 1px 3px 1px rgba(0, 0, 0, 0.15);\n",
              "      filter: drop-shadow(0px 1px 2px rgba(0, 0, 0, 0.3));\n",
              "      fill: #FFFFFF;\n",
              "    }\n",
              "  </style>\n",
              "\n",
              "      <script>\n",
              "        const buttonEl =\n",
              "          document.querySelector('#df-09964965-e44a-46d9-9885-39eff0d32477 button.colab-df-convert');\n",
              "        buttonEl.style.display =\n",
              "          google.colab.kernel.accessAllowed ? 'block' : 'none';\n",
              "\n",
              "        async function convertToInteractive(key) {\n",
              "          const element = document.querySelector('#df-09964965-e44a-46d9-9885-39eff0d32477');\n",
              "          const dataTable =\n",
              "            await google.colab.kernel.invokeFunction('convertToInteractive',\n",
              "                                                     [key], {});\n",
              "          if (!dataTable) return;\n",
              "\n",
              "          const docLinkHtml = 'Like what you see? Visit the ' +\n",
              "            '<a target=\"_blank\" href=https://colab.research.google.com/notebooks/data_table.ipynb>data table notebook</a>'\n",
              "            + ' to learn more about interactive tables.';\n",
              "          element.innerHTML = '';\n",
              "          dataTable['output_type'] = 'display_data';\n",
              "          await google.colab.output.renderOutput(dataTable, element);\n",
              "          const docLink = document.createElement('div');\n",
              "          docLink.innerHTML = docLinkHtml;\n",
              "          element.appendChild(docLink);\n",
              "        }\n",
              "      </script>\n",
              "    </div>\n",
              "  </div>\n",
              "  "
            ]
          },
          "metadata": {},
          "execution_count": 5
        }
      ]
    },
    {
      "cell_type": "code",
      "source": [
        "train.isnull().sum()"
      ],
      "metadata": {
        "colab": {
          "base_uri": "https://localhost:8080/"
        },
        "id": "N7_68L0nZ5ZS",
        "outputId": "b444a133-0bfd-4fc7-f033-d38f0c0c4e08"
      },
      "execution_count": null,
      "outputs": [
        {
          "output_type": "execute_result",
          "data": {
            "text/plain": [
              "Unnamed: 0        0\n",
              "book_to_market    0\n",
              "market_cap        0\n",
              "beta              0\n",
              "dtype: int64"
            ]
          },
          "metadata": {},
          "execution_count": 7
        }
      ]
    },
    {
      "cell_type": "code",
      "source": [
        "print(train['Unnamed: 0'].unique().tolist())"
      ],
      "metadata": {
        "colab": {
          "base_uri": "https://localhost:8080/"
        },
        "id": "5_Q3VvZjHk_2",
        "outputId": "a48ce614-600f-43e1-c811-aef88c45a0b6"
      },
      "execution_count": null,
      "outputs": [
        {
          "output_type": "stream",
          "name": "stdout",
          "text": [
            "['2021-11-30']\n"
          ]
        }
      ]
    },
    {
      "cell_type": "code",
      "source": [
        "sns.set(style=\"darkgrid\")"
      ],
      "metadata": {
        "id": "_HK7UtUj6ilM"
      },
      "execution_count": null,
      "outputs": []
    },
    {
      "cell_type": "markdown",
      "source": [
        "\n",
        "\n",
        "**market capitalization**\n",
        "\n",
        "In the left plot, we can see the distribution of the *market cap*. This plot shows us that the values of *market cap* for most of our data are very close to each other. In the right plot, we can see *discr_r* based on the *market cap*. Based on this plot we can say that it is very hard to distinguish *discr_r* based on only *market cap*, since many data points have almost the same *market cap* but very different *discr_r*.\n",
        "\n",
        "\n"
      ],
      "metadata": {
        "id": "LUEEgVvhFRTL"
      }
    },
    {
      "cell_type": "code",
      "source": [
        "f= plt.figure(figsize=(12,12))\n",
        "gs = gridspec.GridSpec(2, 2)\n",
        "\n",
        "ax=f.add_subplot(gs[0, 0])\n",
        "sns.distplot(train['market_cap'],bins=50,color='b',ax=ax)\n",
        "ax.set_title('Distribution of market_cap')\n",
        "\n",
        "ax=f.add_subplot(gs[0,1])\n",
        "sns.scatterplot(x='market_cap',y='discr_r',data=train,ax=ax)\n",
        "ax.set_title('market_cap and discr_r')\n",
        "\n",
        "ax=f.add_subplot(gs[1, 0])\n",
        "sns.boxplot(data = train, x= 'market_cap')\n",
        "ax.set_title('boxplot of market_cap')"
      ],
      "metadata": {
        "colab": {
          "base_uri": "https://localhost:8080/",
          "height": 843
        },
        "id": "NxPy6Mf7d4oG",
        "outputId": "bfb7bd24-4014-47ff-9598-7311bcaed74e"
      },
      "execution_count": null,
      "outputs": [
        {
          "output_type": "stream",
          "name": "stderr",
          "text": [
            "/usr/local/lib/python3.8/dist-packages/seaborn/distributions.py:2619: FutureWarning:\n",
            "\n",
            "`distplot` is a deprecated function and will be removed in a future version. Please adapt your code to use either `displot` (a figure-level function with similar flexibility) or `histplot` (an axes-level function for histograms).\n",
            "\n"
          ]
        },
        {
          "output_type": "execute_result",
          "data": {
            "text/plain": [
              "Text(0.5, 1.0, 'boxplot of market_cap')"
            ]
          },
          "metadata": {},
          "execution_count": 38
        },
        {
          "output_type": "display_data",
          "data": {
            "text/plain": [
              "<Figure size 864x864 with 3 Axes>"
            ],
            "image/png": "[encoded data removed]"
          },
          "metadata": {}
        }
      ]
    },
    {
      "cell_type": "markdown",
      "source": [
        "\n",
        "\n",
        "\n",
        "\n",
        "**book to market ratio**\n",
        "\n",
        "In the left plot, we can see the distribution of the *book_to_market*. We can see from this chart that book_to_market is heavily skewed toward zero. On the right, we see the *discr_r* based on the *book_to_market*. We can conclude from this plot that we cannot distinguish \"discr_r\" based on only \"book_to_market\", since many data points have almost the same book_to_market, but very different *discr_r*. It can be concluded from the box plot that we have a couple of outliers.\n",
        "\n",
        "\n",
        "\n",
        "\n",
        "\n"
      ],
      "metadata": {
        "id": "ldp7MPzmLY81"
      }
    },
    {
      "cell_type": "code",
      "source": [
        "f= plt.figure(figsize=(12,12))\n",
        "gs = gridspec.GridSpec(2, 2)\n",
        "\n",
        "ax=f.add_subplot(gs[0, 0])\n",
        "sns.distplot(train['book_to_market'],bins=50,color='b',ax=ax)\n",
        "ax.set_title('Distribution of book_to_market')\n",
        "\n",
        "ax=f.add_subplot(gs[0,1])\n",
        "sns.scatterplot(x='book_to_market',y='discr_r',data=train,ax=ax)\n",
        "ax.set_title('book_to_market and discr_r')\n",
        "\n",
        "ax=f.add_subplot(gs[1, 0])\n",
        "sns.boxplot(data = train, x= 'book_to_market')\n",
        "ax.set_title('boxplot of book_to_market')"
      ],
      "metadata": {
        "colab": {
          "base_uri": "https://localhost:8080/",
          "height": 843
        },
        "outputId": "b69ae4be-67c7-4a6f-d6c0-ba4572aa1d28",
        "id": "UFWY0XU8iJYO"
      },
      "execution_count": null,
      "outputs": [
        {
          "output_type": "stream",
          "name": "stderr",
          "text": [
            "/usr/local/lib/python3.8/dist-packages/seaborn/distributions.py:2619: FutureWarning:\n",
            "\n",
            "`distplot` is a deprecated function and will be removed in a future version. Please adapt your code to use either `displot` (a figure-level function with similar flexibility) or `histplot` (an axes-level function for histograms).\n",
            "\n"
          ]
        },
        {
          "output_type": "execute_result",
          "data": {
            "text/plain": [
              "Text(0.5, 1.0, 'boxplot of book_to_market')"
            ]
          },
          "metadata": {},
          "execution_count": 39
        },
        {
          "output_type": "display_data",
          "data": {
            "text/plain": [
              "<Figure size 864x864 with 3 Axes>"
            ],
            "image/png": "[encoded data removed]"
          },
          "metadata": {}
        }
      ]
    },
    {
      "cell_type": "markdown",
      "source": [
        "**beta**\n",
        "\n",
        "In the left plot, we can see the distribution of *beta*. This plot shows us that the values of *beta* is skewed toward the right. In the right plot, we can see *discr_r* based on the *beta*. On the basis of this plot, it looks like we have a hard time separating discr_r based on just beta alone, since many of the data points have very different beta but the same discr_r."
      ],
      "metadata": {
        "id": "M15JnGKQL6xp"
      }
    },
    {
      "cell_type": "code",
      "source": [
        "f= plt.figure(figsize=(12,12))\n",
        "gs = gridspec.GridSpec(2, 2)\n",
        "\n",
        "ax=f.add_subplot(gs[0, 0])\n",
        "sns.distplot(train['beta'],bins=50,color='b',ax=ax)\n",
        "ax.set_title('Distribution of beta')\n",
        "\n",
        "ax=f.add_subplot(gs[0,1])\n",
        "sns.scatterplot(x='beta',y='discr_r',data=train,ax=ax)\n",
        "ax.set_title('beta and discr_r')\n",
        "\n",
        "ax=f.add_subplot(gs[1, 0])\n",
        "sns.boxplot(data = train, x= 'beta')\n",
        "ax.set_title('boxplot of beta')"
      ],
      "metadata": {
        "colab": {
          "base_uri": "https://localhost:8080/",
          "height": 843
        },
        "outputId": "4fbeb0d6-15b2-4987-ae09-03c71138570b",
        "id": "iRNuw0F_iJpQ"
      },
      "execution_count": null,
      "outputs": [
        {
          "output_type": "stream",
          "name": "stderr",
          "text": [
            "/usr/local/lib/python3.8/dist-packages/seaborn/distributions.py:2619: FutureWarning:\n",
            "\n",
            "`distplot` is a deprecated function and will be removed in a future version. Please adapt your code to use either `displot` (a figure-level function with similar flexibility) or `histplot` (an axes-level function for histograms).\n",
            "\n"
          ]
        },
        {
          "output_type": "execute_result",
          "data": {
            "text/plain": [
              "Text(0.5, 1.0, 'boxplot of beta')"
            ]
          },
          "metadata": {},
          "execution_count": 40
        },
        {
          "output_type": "display_data",
          "data": {
            "text/plain": [
              "<Figure size 864x864 with 3 Axes>"
            ],
            "image/png": "[encoded data removed]"
          },
          "metadata": {}
        }
      ]
    },
    {
      "cell_type": "markdown",
      "source": [
        "# correlation\n",
        "\n",
        "Based on the following graph, we can say that there is no correlation between our features since all of the values are under 0.1."
      ],
      "metadata": {
        "id": "JK_wZGTY-iu5"
      }
    },
    {
      "cell_type": "code",
      "source": [
        "f ,ax= plt.subplots()\n",
        "a = train.corr()\n",
        "plt.xticks(range(a.shape[1]), a.columns, fontsize=8, rotation=90)\n",
        "plt.yticks(range(a.shape[1]), a.columns, fontsize=8)\n",
        "im = ax.matshow(a)\n",
        "\n",
        "ax.set_xticks(np.arange(len(a.columns)))\n",
        "ax.set_yticks(np.arange(len(a.columns)))\n",
        "\n",
        "for i,c in enumerate(a.columns):\n",
        "    for j,h in enumerate(a.columns):\n",
        "        text = ax.text(j, i, \"%0.2f\"%a[c][h],\n",
        "                       ha=\"center\", va=\"center\", color=\"w\")\n",
        "\n",
        "plt.show()"
      ],
      "metadata": {
        "colab": {
          "base_uri": "https://localhost:8080/",
          "height": 329
        },
        "id": "gOVF4k-8-nvG",
        "outputId": "beaf2984-1ad9-48ae-f3c3-59480b9f5727"
      },
      "execution_count": null,
      "outputs": [
        {
          "output_type": "display_data",
          "data": {
            "text/plain": [
              "<Figure size 432x288 with 1 Axes>"
            ],
            "image/png": "[encoded data removed]"
          },
          "metadata": {}
        }
      ]
    },
    {
      "cell_type": "markdown",
      "source": [
        "![image.png](data:image/png;base64,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)"
      ],
      "metadata": {
        "id": "pPVC6n6W_bR5"
      }
    },
    {
      "cell_type": "markdown",
      "source": [
        "# PCA and data representation\n",
        "\n",
        "**The principal component analysis (PCA)** technique is widely used for analyzing large datasets that contain many dimensions/features. This method maximizes the interpretation of data while preserving the maximum amount of information, and enables the visualization of multidimensional data.\n",
        "\n",
        "In order to visualize our data, PCA was used to compress all of our features into one. This allows us to draw the following plot in 2d space and understand our data more."
      ],
      "metadata": {
        "id": "sGU2IQ4ZY9De"
      }
    },
    {
      "cell_type": "code",
      "source": [
        "y_train = train.pop('discr_r')\n",
        "X_train = train\n",
        "pca_2d = PCA(n_components=1).fit_transform(X_train)\n",
        "fig = sns.scatterplot(pca_2d[:, 0], y_train)\n",
        "plt.xlabel(\"all features compressed into 1\")\n",
        "plt.ylabel(\"discr_r\")\n",
        "plt.title(\"data representation in 2d\") # You can comment this line out if you don't need title\n",
        "plt.show(fig)"
      ],
      "metadata": {
        "colab": {
          "base_uri": "https://localhost:8080/",
          "height": 330
        },
        "id": "13ZRx9pQZECg",
        "outputId": "f068abd7-aea1-4538-e069-23486e682145"
      },
      "execution_count": null,
      "outputs": [
        {
          "output_type": "stream",
          "name": "stderr",
          "text": [
            "/usr/local/lib/python3.8/dist-packages/seaborn/_decorators.py:36: FutureWarning: Pass the following variables as keyword args: x, y. From version 0.12, the only valid positional argument will be `data`, and passing other arguments without an explicit keyword will result in an error or misinterpretation.\n",
            "  warnings.warn(\n"
          ]
        },
        {
          "output_type": "display_data",
          "data": {
            "text/plain": [
              "<Figure size 432x288 with 1 Axes>"
            ],
            "image/png": "[encoded data removed]"
          },
          "metadata": {
            "needs_background": "light"
          }
        }
      ]
    },
    {
      "cell_type": "markdown",
      "source": [
        "# Preprocessing\n",
        "\n",
        "An aspect of data preparation is data preprocessing, which is any processing applied to raw data before it is subjected to another data processing step. In data preprocessing, we will prepare our data so that it can be easier for machine learning algorithms to process them. This step helps increase the accuracy of our model.\n",
        "\n",
        "For this dataset, we will only drop the 'Unnamed: 0' column and normalize our values."
      ],
      "metadata": {
        "id": "sgLWrPhnZvNL"
      }
    },
    {
      "cell_type": "code",
      "source": [
        "train = train.drop(columns = ['Unnamed: 0'])\n",
        "scaler = MinMaxScaler()\n",
        "train[:] = scaler.fit_transform(train[:])\n",
        "train\n"
      ],
      "metadata": {
        "colab": {
          "base_uri": "https://localhost:8080/",
          "height": 424
        },
        "id": "cpAAspLHx5q-",
        "outputId": "8cf216c2-79e3-4062-d736-c95dd833b1ca"
      },
      "execution_count": null,
      "outputs": [
        {
          "output_type": "execute_result",
          "data": {
            "text/plain": [
              "      book_to_market    market_cap      beta   discr_r\n",
              "0           0.000077  1.116980e-05  0.615688  0.119152\n",
              "1           0.000077  1.197427e-07  0.631420  0.113210\n",
              "2           0.000077  1.433962e-04  0.659968  0.102126\n",
              "3           0.000077  1.052218e-05  0.537598  0.110359\n",
              "4           0.000077  5.227085e-07  0.724688  0.105226\n",
              "...              ...           ...       ...       ...\n",
              "4878        0.000077  1.816444e-05  0.536984  0.091661\n",
              "4879        0.000077  4.109551e-06  0.766350  0.073608\n",
              "4880        0.000077  5.485158e-07  0.640220  0.120333\n",
              "4881        0.000077  1.796928e-06  0.626909  0.105337\n",
              "4882        0.000077  1.214534e-05  0.685487  0.152149\n",
              "\n",
              "[4883 rows x 4 columns]"
            ],
            "text/html": [
              "\n",
              "  <div id=\"df-ca722223-5ef2-4220-aadd-2805a7b32e43\">\n",
              "    <div class=\"colab-df-container\">\n",
              "      <div>\n",
              "<style scoped>\n",
              "    .dataframe tbody tr th:only-of-type {\n",
              "        vertical-align: middle;\n",
              "    }\n",
              "\n",
              "    .dataframe tbody tr th {\n",
              "        vertical-align: top;\n",
              "    }\n",
              "\n",
              "    .dataframe thead th {\n",
              "        text-align: right;\n",
              "    }\n",
              "</style>\n",
              "<table border=\"1\" class=\"dataframe\">\n",
              "  <thead>\n",
              "    <tr style=\"text-align: right;\">\n",
              "      <th></th>\n",
              "      <th>book_to_market</th>\n",
              "      <th>market_cap</th>\n",
              "      <th>beta</th>\n",
              "      <th>discr_r</th>\n",
              "    </tr>\n",
              "  </thead>\n",
              "  <tbody>\n",
              "    <tr>\n",
              "      <th>0</th>\n",
              "      <td>0.000077</td>\n",
              "      <td>1.116980e-05</td>\n",
              "      <td>0.615688</td>\n",
              "      <td>0.119152</td>\n",
              "    </tr>\n",
              "    <tr>\n",
              "      <th>1</th>\n",
              "      <td>0.000077</td>\n",
              "      <td>1.197427e-07</td>\n",
              "      <td>0.631420</td>\n",
              "      <td>0.113210</td>\n",
              "    </tr>\n",
              "    <tr>\n",
              "      <th>2</th>\n",
              "      <td>0.000077</td>\n",
              "      <td>1.433962e-04</td>\n",
              "      <td>0.659968</td>\n",
              "      <td>0.102126</td>\n",
              "    </tr>\n",
              "    <tr>\n",
              "      <th>3</th>\n",
              "      <td>0.000077</td>\n",
              "      <td>1.052218e-05</td>\n",
              "      <td>0.537598</td>\n",
              "      <td>0.110359</td>\n",
              "    </tr>\n",
              "    <tr>\n",
              "      <th>4</th>\n",
              "      <td>0.000077</td>\n",
              "      <td>5.227085e-07</td>\n",
              "      <td>0.724688</td>\n",
              "      <td>0.105226</td>\n",
              "    </tr>\n",
              "    <tr>\n",
              "      <th>...</th>\n",
              "      <td>...</td>\n",
              "      <td>...</td>\n",
              "      <td>...</td>\n",
              "      <td>...</td>\n",
              "    </tr>\n",
              "    <tr>\n",
              "      <th>4878</th>\n",
              "      <td>0.000077</td>\n",
              "      <td>1.816444e-05</td>\n",
              "      <td>0.536984</td>\n",
              "      <td>0.091661</td>\n",
              "    </tr>\n",
              "    <tr>\n",
              "      <th>4879</th>\n",
              "      <td>0.000077</td>\n",
              "      <td>4.109551e-06</td>\n",
              "      <td>0.766350</td>\n",
              "      <td>0.073608</td>\n",
              "    </tr>\n",
              "    <tr>\n",
              "      <th>4880</th>\n",
              "      <td>0.000077</td>\n",
              "      <td>5.485158e-07</td>\n",
              "      <td>0.640220</td>\n",
              "      <td>0.120333</td>\n",
              "    </tr>\n",
              "    <tr>\n",
              "      <th>4881</th>\n",
              "      <td>0.000077</td>\n",
              "      <td>1.796928e-06</td>\n",
              "      <td>0.626909</td>\n",
              "      <td>0.105337</td>\n",
              "    </tr>\n",
              "    <tr>\n",
              "      <th>4882</th>\n",
              "      <td>0.000077</td>\n",
              "      <td>1.214534e-05</td>\n",
              "      <td>0.685487</td>\n",
              "      <td>0.152149</td>\n",
              "    </tr>\n",
              "  </tbody>\n",
              "</table>\n",
              "<p>4883 rows × 4 columns</p>\n",
              "</div>\n",
              "      <button class=\"colab-df-convert\" onclick=\"convertToInteractive('df-ca722223-5ef2-4220-aadd-2805a7b32e43')\"\n",
              "              title=\"Convert this dataframe to an interactive table.\"\n",
              "              style=\"display:none;\">\n",
              "        \n",
              "  <svg xmlns=\"http://www.w3.org/2000/svg\" height=\"24px\"viewBox=\"0 0 24 24\"\n",
              "       width=\"24px\">\n",
              "    <path d=\"M0 0h24v24H0V0z\" fill=\"none\"/>\n",
              "    <path d=\"M18.56 5.44l.94 2.06.94-2.06 2.06-.94-2.06-.94-.94-2.06-.94 2.06-2.06.94zm-11 1L8.5 8.5l.94-2.06 2.06-.94-2.06-.94L8.5 2.5l-.94 2.06-2.06.94zm10 10l.94 2.06.94-2.06 2.06-.94-2.06-.94-.94-2.06-.94 2.06-2.06.94z\"/><path d=\"M17.41 7.96l-1.37-1.37c-.4-.4-.92-.59-1.43-.59-.52 0-1.04.2-1.43.59L10.3 9.45l-7.72 7.72c-.78.78-.78 2.05 0 2.83L4 21.41c.39.39.9.59 1.41.59.51 0 1.02-.2 1.41-.59l7.78-7.78 2.81-2.81c.8-.78.8-2.07 0-2.86zM5.41 20L4 18.59l7.72-7.72 1.47 1.35L5.41 20z\"/>\n",
              "  </svg>\n",
              "      </button>\n",
              "      \n",
              "  <style>\n",
              "    .colab-df-container {\n",
              "      display:flex;\n",
              "      flex-wrap:wrap;\n",
              "      gap: 12px;\n",
              "    }\n",
              "\n",
              "    .colab-df-convert {\n",
              "      background-color: #E8F0FE;\n",
              "      border: none;\n",
              "      border-radius: 50%;\n",
              "      cursor: pointer;\n",
              "      display: none;\n",
              "      fill: #1967D2;\n",
              "      height: 32px;\n",
              "      padding: 0 0 0 0;\n",
              "      width: 32px;\n",
              "    }\n",
              "\n",
              "    .colab-df-convert:hover {\n",
              "      background-color: #E2EBFA;\n",
              "      box-shadow: 0px 1px 2px rgba(60, 64, 67, 0.3), 0px 1px 3px 1px rgba(60, 64, 67, 0.15);\n",
              "      fill: #174EA6;\n",
              "    }\n",
              "\n",
              "    [theme=dark] .colab-df-convert {\n",
              "      background-color: #3B4455;\n",
              "      fill: #D2E3FC;\n",
              "    }\n",
              "\n",
              "    [theme=dark] .colab-df-convert:hover {\n",
              "      background-color: #434B5C;\n",
              "      box-shadow: 0px 1px 3px 1px rgba(0, 0, 0, 0.15);\n",
              "      filter: drop-shadow(0px 1px 2px rgba(0, 0, 0, 0.3));\n",
              "      fill: #FFFFFF;\n",
              "    }\n",
              "  </style>\n",
              "\n",
              "      <script>\n",
              "        const buttonEl =\n",
              "          document.querySelector('#df-ca722223-5ef2-4220-aadd-2805a7b32e43 button.colab-df-convert');\n",
              "        buttonEl.style.display =\n",
              "          google.colab.kernel.accessAllowed ? 'block' : 'none';\n",
              "\n",
              "        async function convertToInteractive(key) {\n",
              "          const element = document.querySelector('#df-ca722223-5ef2-4220-aadd-2805a7b32e43');\n",
              "          const dataTable =\n",
              "            await google.colab.kernel.invokeFunction('convertToInteractive',\n",
              "                                                     [key], {});\n",
              "          if (!dataTable) return;\n",
              "\n",
              "          const docLinkHtml = 'Like what you see? Visit the ' +\n",
              "            '<a target=\"_blank\" href=https://colab.research.google.com/notebooks/data_table.ipynb>data table notebook</a>'\n",
              "            + ' to learn more about interactive tables.';\n",
              "          element.innerHTML = '';\n",
              "          dataTable['output_type'] = 'display_data';\n",
              "          await google.colab.output.renderOutput(dataTable, element);\n",
              "          const docLink = document.createElement('div');\n",
              "          docLink.innerHTML = docLinkHtml;\n",
              "          element.appendChild(docLink);\n",
              "        }\n",
              "      </script>\n",
              "    </div>\n",
              "  </div>\n",
              "  "
            ]
          },
          "metadata": {},
          "execution_count": 4
        }
      ]
    },
    {
      "cell_type": "code",
      "source": [
        "\n",
        "test = test.drop(columns = ['Unnamed: 0'])\n",
        "scaler = MinMaxScaler()\n",
        "test[:] = scaler.fit_transform(test[:])\n",
        "test\n"
      ],
      "metadata": {
        "colab": {
          "base_uri": "https://localhost:8080/",
          "height": 424
        },
        "outputId": "4a841465-9588-4ac0-d916-0126b3c67ad4",
        "id": "Kn-xFEnfy_xg"
      },
      "execution_count": null,
      "outputs": [
        {
          "output_type": "execute_result",
          "data": {
            "text/plain": [
              "      book_to_market    market_cap      beta   discr_r\n",
              "0       6.923638e-08  2.966465e-06  0.482783  0.189496\n",
              "1       6.946169e-08  1.753914e-06  0.621068  0.270020\n",
              "2       6.955041e-08  2.481874e-07  0.461931  0.201770\n",
              "3       6.919138e-08  8.128732e-05  0.358120  0.218120\n",
              "4       7.003459e-08  1.600513e-07  0.571420  0.185199\n",
              "...              ...           ...       ...       ...\n",
              "5041    6.962445e-08  6.450932e-07  0.503879  0.192194\n",
              "5042    6.923239e-08  4.654055e-05  0.672715  0.187889\n",
              "5043    6.920075e-08  1.667364e-07  0.429343  0.123628\n",
              "5044    6.930833e-08  8.417084e-06  0.575307  0.203718\n",
              "5045    6.942592e-08  3.759401e-07  0.469681  0.237963\n",
              "\n",
              "[5046 rows x 4 columns]"
            ],
            "text/html": [
              "\n",
              "  <div id=\"df-b54b8f66-b6e6-41ab-a4fe-b67f73dd4389\">\n",
              "    <div class=\"colab-df-container\">\n",
              "      <div>\n",
              "<style scoped>\n",
              "    .dataframe tbody tr th:only-of-type {\n",
              "        vertical-align: middle;\n",
              "    }\n",
              "\n",
              "    .dataframe tbody tr th {\n",
              "        vertical-align: top;\n",
              "    }\n",
              "\n",
              "    .dataframe thead th {\n",
              "        text-align: right;\n",
              "    }\n",
              "</style>\n",
              "<table border=\"1\" class=\"dataframe\">\n",
              "  <thead>\n",
              "    <tr style=\"text-align: right;\">\n",
              "      <th></th>\n",
              "      <th>book_to_market</th>\n",
              "      <th>market_cap</th>\n",
              "      <th>beta</th>\n",
              "      <th>discr_r</th>\n",
              "    </tr>\n",
              "  </thead>\n",
              "  <tbody>\n",
              "    <tr>\n",
              "      <th>0</th>\n",
              "      <td>6.923638e-08</td>\n",
              "      <td>2.966465e-06</td>\n",
              "      <td>0.482783</td>\n",
              "      <td>0.189496</td>\n",
              "    </tr>\n",
              "    <tr>\n",
              "      <th>1</th>\n",
              "      <td>6.946169e-08</td>\n",
              "      <td>1.753914e-06</td>\n",
              "      <td>0.621068</td>\n",
              "      <td>0.270020</td>\n",
              "    </tr>\n",
              "    <tr>\n",
              "      <th>2</th>\n",
              "      <td>6.955041e-08</td>\n",
              "      <td>2.481874e-07</td>\n",
              "      <td>0.461931</td>\n",
              "      <td>0.201770</td>\n",
              "    </tr>\n",
              "    <tr>\n",
              "      <th>3</th>\n",
              "      <td>6.919138e-08</td>\n",
              "      <td>8.128732e-05</td>\n",
              "      <td>0.358120</td>\n",
              "      <td>0.218120</td>\n",
              "    </tr>\n",
              "    <tr>\n",
              "      <th>4</th>\n",
              "      <td>7.003459e-08</td>\n",
              "      <td>1.600513e-07</td>\n",
              "      <td>0.571420</td>\n",
              "      <td>0.185199</td>\n",
              "    </tr>\n",
              "    <tr>\n",
              "      <th>...</th>\n",
              "      <td>...</td>\n",
              "      <td>...</td>\n",
              "      <td>...</td>\n",
              "      <td>...</td>\n",
              "    </tr>\n",
              "    <tr>\n",
              "      <th>5041</th>\n",
              "      <td>6.962445e-08</td>\n",
              "      <td>6.450932e-07</td>\n",
              "      <td>0.503879</td>\n",
              "      <td>0.192194</td>\n",
              "    </tr>\n",
              "    <tr>\n",
              "      <th>5042</th>\n",
              "      <td>6.923239e-08</td>\n",
              "      <td>4.654055e-05</td>\n",
              "      <td>0.672715</td>\n",
              "      <td>0.187889</td>\n",
              "    </tr>\n",
              "    <tr>\n",
              "      <th>5043</th>\n",
              "      <td>6.920075e-08</td>\n",
              "      <td>1.667364e-07</td>\n",
              "      <td>0.429343</td>\n",
              "      <td>0.123628</td>\n",
              "    </tr>\n",
              "    <tr>\n",
              "      <th>5044</th>\n",
              "      <td>6.930833e-08</td>\n",
              "      <td>8.417084e-06</td>\n",
              "      <td>0.575307</td>\n",
              "      <td>0.203718</td>\n",
              "    </tr>\n",
              "    <tr>\n",
              "      <th>5045</th>\n",
              "      <td>6.942592e-08</td>\n",
              "      <td>3.759401e-07</td>\n",
              "      <td>0.469681</td>\n",
              "      <td>0.237963</td>\n",
              "    </tr>\n",
              "  </tbody>\n",
              "</table>\n",
              "<p>5046 rows × 4 columns</p>\n",
              "</div>\n",
              "      <button class=\"colab-df-convert\" onclick=\"convertToInteractive('df-b54b8f66-b6e6-41ab-a4fe-b67f73dd4389')\"\n",
              "              title=\"Convert this dataframe to an interactive table.\"\n",
              "              style=\"display:none;\">\n",
              "        \n",
              "  <svg xmlns=\"http://www.w3.org/2000/svg\" height=\"24px\"viewBox=\"0 0 24 24\"\n",
              "       width=\"24px\">\n",
              "    <path d=\"M0 0h24v24H0V0z\" fill=\"none\"/>\n",
              "    <path d=\"M18.56 5.44l.94 2.06.94-2.06 2.06-.94-2.06-.94-.94-2.06-.94 2.06-2.06.94zm-11 1L8.5 8.5l.94-2.06 2.06-.94-2.06-.94L8.5 2.5l-.94 2.06-2.06.94zm10 10l.94 2.06.94-2.06 2.06-.94-2.06-.94-.94-2.06-.94 2.06-2.06.94z\"/><path d=\"M17.41 7.96l-1.37-1.37c-.4-.4-.92-.59-1.43-.59-.52 0-1.04.2-1.43.59L10.3 9.45l-7.72 7.72c-.78.78-.78 2.05 0 2.83L4 21.41c.39.39.9.59 1.41.59.51 0 1.02-.2 1.41-.59l7.78-7.78 2.81-2.81c.8-.78.8-2.07 0-2.86zM5.41 20L4 18.59l7.72-7.72 1.47 1.35L5.41 20z\"/>\n",
              "  </svg>\n",
              "      </button>\n",
              "      \n",
              "  <style>\n",
              "    .colab-df-container {\n",
              "      display:flex;\n",
              "      flex-wrap:wrap;\n",
              "      gap: 12px;\n",
              "    }\n",
              "\n",
              "    .colab-df-convert {\n",
              "      background-color: #E8F0FE;\n",
              "      border: none;\n",
              "      border-radius: 50%;\n",
              "      cursor: pointer;\n",
              "      display: none;\n",
              "      fill: #1967D2;\n",
              "      height: 32px;\n",
              "      padding: 0 0 0 0;\n",
              "      width: 32px;\n",
              "    }\n",
              "\n",
              "    .colab-df-convert:hover {\n",
              "      background-color: #E2EBFA;\n",
              "      box-shadow: 0px 1px 2px rgba(60, 64, 67, 0.3), 0px 1px 3px 1px rgba(60, 64, 67, 0.15);\n",
              "      fill: #174EA6;\n",
              "    }\n",
              "\n",
              "    [theme=dark] .colab-df-convert {\n",
              "      background-color: #3B4455;\n",
              "      fill: #D2E3FC;\n",
              "    }\n",
              "\n",
              "    [theme=dark] .colab-df-convert:hover {\n",
              "      background-color: #434B5C;\n",
              "      box-shadow: 0px 1px 3px 1px rgba(0, 0, 0, 0.15);\n",
              "      filter: drop-shadow(0px 1px 2px rgba(0, 0, 0, 0.3));\n",
              "      fill: #FFFFFF;\n",
              "    }\n",
              "  </style>\n",
              "\n",
              "      <script>\n",
              "        const buttonEl =\n",
              "          document.querySelector('#df-b54b8f66-b6e6-41ab-a4fe-b67f73dd4389 button.colab-df-convert');\n",
              "        buttonEl.style.display =\n",
              "          google.colab.kernel.accessAllowed ? 'block' : 'none';\n",
              "\n",
              "        async function convertToInteractive(key) {\n",
              "          const element = document.querySelector('#df-b54b8f66-b6e6-41ab-a4fe-b67f73dd4389');\n",
              "          const dataTable =\n",
              "            await google.colab.kernel.invokeFunction('convertToInteractive',\n",
              "                                                     [key], {});\n",
              "          if (!dataTable) return;\n",
              "\n",
              "          const docLinkHtml = 'Like what you see? Visit the ' +\n",
              "            '<a target=\"_blank\" href=https://colab.research.google.com/notebooks/data_table.ipynb>data table notebook</a>'\n",
              "            + ' to learn more about interactive tables.';\n",
              "          element.innerHTML = '';\n",
              "          dataTable['output_type'] = 'display_data';\n",
              "          await google.colab.output.renderOutput(dataTable, element);\n",
              "          const docLink = document.createElement('div');\n",
              "          docLink.innerHTML = docLinkHtml;\n",
              "          element.appendChild(docLink);\n",
              "        }\n",
              "      </script>\n",
              "    </div>\n",
              "  </div>\n",
              "  "
            ]
          },
          "metadata": {},
          "execution_count": 5
        }
      ]
    },
    {
      "cell_type": "code",
      "source": [
        "\n",
        "validation = validation.drop(columns = ['Unnamed: 0'])\n",
        "scaler = MinMaxScaler()\n",
        "validation[:] = scaler.fit_transform(validation[:])\n",
        "validation\n"
      ],
      "metadata": {
        "colab": {
          "base_uri": "https://localhost:8080/",
          "height": 424
        },
        "outputId": "5995fd40-04d0-4154-c59d-34a99f5c16aa",
        "id": "RKtONtvyzGgu"
      },
      "execution_count": null,
      "outputs": [
        {
          "output_type": "execute_result",
          "data": {
            "text/plain": [
              "      book_to_market    market_cap      beta   discr_r\n",
              "0           0.000039  4.076503e-06  0.559739  0.216234\n",
              "1           0.000039  5.251431e-08  0.757663  0.136581\n",
              "2           0.000039  1.607182e-06  0.640247  0.208581\n",
              "3           0.000039  1.071855e-05  0.594675  0.215257\n",
              "4           0.000039  1.256767e-06  0.704605  0.244462\n",
              "...              ...           ...       ...       ...\n",
              "4958        0.000039  4.711758e-07  0.560170  0.222041\n",
              "4959        0.000039  3.775732e-08  0.703146  0.172950\n",
              "4960        0.000039  5.487544e-07  0.466676  0.217156\n",
              "4961        0.000039  1.085003e-07  0.669183  0.167897\n",
              "4962        0.000039  4.142551e-07  0.566197  0.209939\n",
              "\n",
              "[4963 rows x 4 columns]"
            ],
            "text/html": [
              "\n",
              "  <div id=\"df-0d0a727e-c83e-4688-8196-5441932cd6a1\">\n",
              "    <div class=\"colab-df-container\">\n",
              "      <div>\n",
              "<style scoped>\n",
              "    .dataframe tbody tr th:only-of-type {\n",
              "        vertical-align: middle;\n",
              "    }\n",
              "\n",
              "    .dataframe tbody tr th {\n",
              "        vertical-align: top;\n",
              "    }\n",
              "\n",
              "    .dataframe thead th {\n",
              "        text-align: right;\n",
              "    }\n",
              "</style>\n",
              "<table border=\"1\" class=\"dataframe\">\n",
              "  <thead>\n",
              "    <tr style=\"text-align: right;\">\n",
              "      <th></th>\n",
              "      <th>book_to_market</th>\n",
              "      <th>market_cap</th>\n",
              "      <th>beta</th>\n",
              "      <th>discr_r</th>\n",
              "    </tr>\n",
              "  </thead>\n",
              "  <tbody>\n",
              "    <tr>\n",
              "      <th>0</th>\n",
              "      <td>0.000039</td>\n",
              "      <td>4.076503e-06</td>\n",
              "      <td>0.559739</td>\n",
              "      <td>0.216234</td>\n",
              "    </tr>\n",
              "    <tr>\n",
              "      <th>1</th>\n",
              "      <td>0.000039</td>\n",
              "      <td>5.251431e-08</td>\n",
              "      <td>0.757663</td>\n",
              "      <td>0.136581</td>\n",
              "    </tr>\n",
              "    <tr>\n",
              "      <th>2</th>\n",
              "      <td>0.000039</td>\n",
              "      <td>1.607182e-06</td>\n",
              "      <td>0.640247</td>\n",
              "      <td>0.208581</td>\n",
              "    </tr>\n",
              "    <tr>\n",
              "      <th>3</th>\n",
              "      <td>0.000039</td>\n",
              "      <td>1.071855e-05</td>\n",
              "      <td>0.594675</td>\n",
              "      <td>0.215257</td>\n",
              "    </tr>\n",
              "    <tr>\n",
              "      <th>4</th>\n",
              "      <td>0.000039</td>\n",
              "      <td>1.256767e-06</td>\n",
              "      <td>0.704605</td>\n",
              "      <td>0.244462</td>\n",
              "    </tr>\n",
              "    <tr>\n",
              "      <th>...</th>\n",
              "      <td>...</td>\n",
              "      <td>...</td>\n",
              "      <td>...</td>\n",
              "      <td>...</td>\n",
              "    </tr>\n",
              "    <tr>\n",
              "      <th>4958</th>\n",
              "      <td>0.000039</td>\n",
              "      <td>4.711758e-07</td>\n",
              "      <td>0.560170</td>\n",
              "      <td>0.222041</td>\n",
              "    </tr>\n",
              "    <tr>\n",
              "      <th>4959</th>\n",
              "      <td>0.000039</td>\n",
              "      <td>3.775732e-08</td>\n",
              "      <td>0.703146</td>\n",
              "      <td>0.172950</td>\n",
              "    </tr>\n",
              "    <tr>\n",
              "      <th>4960</th>\n",
              "      <td>0.000039</td>\n",
              "      <td>5.487544e-07</td>\n",
              "      <td>0.466676</td>\n",
              "      <td>0.217156</td>\n",
              "    </tr>\n",
              "    <tr>\n",
              "      <th>4961</th>\n",
              "      <td>0.000039</td>\n",
              "      <td>1.085003e-07</td>\n",
              "      <td>0.669183</td>\n",
              "      <td>0.167897</td>\n",
              "    </tr>\n",
              "    <tr>\n",
              "      <th>4962</th>\n",
              "      <td>0.000039</td>\n",
              "      <td>4.142551e-07</td>\n",
              "      <td>0.566197</td>\n",
              "      <td>0.209939</td>\n",
              "    </tr>\n",
              "  </tbody>\n",
              "</table>\n",
              "<p>4963 rows × 4 columns</p>\n",
              "</div>\n",
              "      <button class=\"colab-df-convert\" onclick=\"convertToInteractive('df-0d0a727e-c83e-4688-8196-5441932cd6a1')\"\n",
              "              title=\"Convert this dataframe to an interactive table.\"\n",
              "              style=\"display:none;\">\n",
              "        \n",
              "  <svg xmlns=\"http://www.w3.org/2000/svg\" height=\"24px\"viewBox=\"0 0 24 24\"\n",
              "       width=\"24px\">\n",
              "    <path d=\"M0 0h24v24H0V0z\" fill=\"none\"/>\n",
              "    <path d=\"M18.56 5.44l.94 2.06.94-2.06 2.06-.94-2.06-.94-.94-2.06-.94 2.06-2.06.94zm-11 1L8.5 8.5l.94-2.06 2.06-.94-2.06-.94L8.5 2.5l-.94 2.06-2.06.94zm10 10l.94 2.06.94-2.06 2.06-.94-2.06-.94-.94-2.06-.94 2.06-2.06.94z\"/><path d=\"M17.41 7.96l-1.37-1.37c-.4-.4-.92-.59-1.43-.59-.52 0-1.04.2-1.43.59L10.3 9.45l-7.72 7.72c-.78.78-.78 2.05 0 2.83L4 21.41c.39.39.9.59 1.41.59.51 0 1.02-.2 1.41-.59l7.78-7.78 2.81-2.81c.8-.78.8-2.07 0-2.86zM5.41 20L4 18.59l7.72-7.72 1.47 1.35L5.41 20z\"/>\n",
              "  </svg>\n",
              "      </button>\n",
              "      \n",
              "  <style>\n",
              "    .colab-df-container {\n",
              "      display:flex;\n",
              "      flex-wrap:wrap;\n",
              "      gap: 12px;\n",
              "    }\n",
              "\n",
              "    .colab-df-convert {\n",
              "      background-color: #E8F0FE;\n",
              "      border: none;\n",
              "      border-radius: 50%;\n",
              "      cursor: pointer;\n",
              "      display: none;\n",
              "      fill: #1967D2;\n",
              "      height: 32px;\n",
              "      padding: 0 0 0 0;\n",
              "      width: 32px;\n",
              "    }\n",
              "\n",
              "    .colab-df-convert:hover {\n",
              "      background-color: #E2EBFA;\n",
              "      box-shadow: 0px 1px 2px rgba(60, 64, 67, 0.3), 0px 1px 3px 1px rgba(60, 64, 67, 0.15);\n",
              "      fill: #174EA6;\n",
              "    }\n",
              "\n",
              "    [theme=dark] .colab-df-convert {\n",
              "      background-color: #3B4455;\n",
              "      fill: #D2E3FC;\n",
              "    }\n",
              "\n",
              "    [theme=dark] .colab-df-convert:hover {\n",
              "      background-color: #434B5C;\n",
              "      box-shadow: 0px 1px 3px 1px rgba(0, 0, 0, 0.15);\n",
              "      filter: drop-shadow(0px 1px 2px rgba(0, 0, 0, 0.3));\n",
              "      fill: #FFFFFF;\n",
              "    }\n",
              "  </style>\n",
              "\n",
              "      <script>\n",
              "        const buttonEl =\n",
              "          document.querySelector('#df-0d0a727e-c83e-4688-8196-5441932cd6a1 button.colab-df-convert');\n",
              "        buttonEl.style.display =\n",
              "          google.colab.kernel.accessAllowed ? 'block' : 'none';\n",
              "\n",
              "        async function convertToInteractive(key) {\n",
              "          const element = document.querySelector('#df-0d0a727e-c83e-4688-8196-5441932cd6a1');\n",
              "          const dataTable =\n",
              "            await google.colab.kernel.invokeFunction('convertToInteractive',\n",
              "                                                     [key], {});\n",
              "          if (!dataTable) return;\n",
              "\n",
              "          const docLinkHtml = 'Like what you see? Visit the ' +\n",
              "            '<a target=\"_blank\" href=https://colab.research.google.com/notebooks/data_table.ipynb>data table notebook</a>'\n",
              "            + ' to learn more about interactive tables.';\n",
              "          element.innerHTML = '';\n",
              "          dataTable['output_type'] = 'display_data';\n",
              "          await google.colab.output.renderOutput(dataTable, element);\n",
              "          const docLink = document.createElement('div');\n",
              "          docLink.innerHTML = docLinkHtml;\n",
              "          element.appendChild(docLink);\n",
              "        }\n",
              "      </script>\n",
              "    </div>\n",
              "  </div>\n",
              "  "
            ]
          },
          "metadata": {},
          "execution_count": 6
        }
      ]
    },
    {
      "cell_type": "markdown",
      "source": [
        "# linear regression\n",
        "\n",
        "\n",
        "\n",
        "A **linear regression model** is a supervised machine learning model that analyzes dependent and independent variables and finds what linear relationship, is most suitable\n",
        "\n",
        "Here we have implemented and trained 2 Linear models one using the sklearn library and one using TensorFlow.\n",
        "\n",
        "An evaluation metric for regression models is the **Mean absolute error**(MAE). This value is calculated by averaging the errors on all instances in the test dataset. Therefore, the lower this value is, the better our model has performed.\n",
        "\n",
        "$\\mathrm{mae = \\dfrac{\\sum_{i=1}^{n} |y_i - \\hat{y_i}|}{ n}}$\n",
        "\n",
        "The results show us that the sklearn model has a better performance on our dataset in comparison to the TensorFlow one. Moving forward, we will use the TensorFlow one, since we want to calculate the feature importance and it is very important to us that the neural network model and a linear regression model are from the same library for more consistency.\n",
        "\n",
        "\n"
      ],
      "metadata": {
        "id": "-6hvp5I8jk-Z"
      }
    },
    {
      "cell_type": "code",
      "source": [
        "y_train = train.pop('discr_r')\n",
        "X_train = train\n",
        "\n",
        "y_test = test.pop('discr_r')\n",
        "X_test = test\n",
        "\n",
        "y_val = validation.pop('discr_r')\n",
        "X_val = validation"
      ],
      "metadata": {
        "id": "wxW9dsgbx-SO"
      },
      "execution_count": null,
      "outputs": []
    },
    {
      "cell_type": "code",
      "source": [
        "\n",
        "linear_regression = LinearRegression() \n",
        "linear_regression.fit(X_train, y_train)\n",
        "y_pred = linear_regression.predict(X_test)\n",
        "\n",
        "\n",
        "error = mae(y_test, y_pred)\n",
        "print(\"Mean absolute error : \" + str(error))"
      ],
      "metadata": {
        "colab": {
          "base_uri": "https://localhost:8080/"
        },
        "id": "x5-ZOmTjjofg",
        "outputId": "020b0497-7bd4-419f-94e3-65daeb2a1db7"
      },
      "execution_count": null,
      "outputs": [
        {
          "output_type": "stream",
          "name": "stdout",
          "text": [
            "Mean absolute error : 0.08715407118739349\n"
          ]
        }
      ]
    },
    {
      "cell_type": "code",
      "source": [
        "train_dataset = tf.data.Dataset.from_tensor_slices((X_train, y_train))\n",
        "# Shuffle and slice the dataset.\n",
        "train_dataset = train_dataset.shuffle(buffer_size=1024).batch(64)\n",
        "\n",
        "# Now we get a test dataset.\n",
        "test_dataset = tf.data.Dataset.from_tensor_slices((X_test, y_test))\n",
        "test_dataset = test_dataset.batch(64)\n",
        "\n",
        "val_dataset = tf.data.Dataset.from_tensor_slices((X_val, y_val))\n",
        "val_dataset = val_dataset.batch(64)"
      ],
      "metadata": {
        "id": "LWB0GIZugAEq"
      },
      "execution_count": null,
      "outputs": []
    },
    {
      "cell_type": "code",
      "source": [
        "def plot_loss(history):\n",
        "  plt.plot(history.history['loss'], label='loss')\n",
        "  plt.plot(history.history['val_loss'], label='val_loss')\n",
        "  plt.ylim([0, 10])\n",
        "  plt.xlabel('Epoch')\n",
        "  plt.ylabel('Error [MPG]')\n",
        "  plt.legend()\n",
        "  plt.grid(True)"
      ],
      "metadata": {
        "id": "f36MF02Igk_I"
      },
      "execution_count": null,
      "outputs": []
    },
    {
      "cell_type": "code",
      "source": [
        "normalizer = tf.keras.layers.Normalization(axis=-1)\n",
        "normalizer.adapt(np.array(X_train))\n",
        "linear_model = tf.keras.Sequential([\n",
        "    normalizer,\n",
        "    layers.Dense(units=1)\n",
        "])\n",
        "linear_model.compile(\n",
        "    optimizer=tf.keras.optimizers.Adam(learning_rate=0.1),\n",
        "    loss='mean_absolute_error')\n",
        "history = linear_model.fit(\n",
        "    X_train,\n",
        "    y_train,\n",
        "    epochs=10,\n",
        "    verbose=0,\n",
        "    validation_data = val_dataset)\n",
        "plot_loss(history)"
      ],
      "metadata": {
        "colab": {
          "base_uri": "https://localhost:8080/",
          "height": 283
        },
        "id": "iTHcTEcYd63F",
        "outputId": "b19f3a9a-6bb8-4b81-f956-80e4ced1f98a"
      },
      "execution_count": null,
      "outputs": [
        {
          "output_type": "display_data",
          "data": {
            "text/plain": [
              "<Figure size 432x288 with 1 Axes>"
            ],
            "image/png": "[encoded data removed]"
          },
          "metadata": {
            "needs_background": "light"
          }
        }
      ]
    },
    {
      "cell_type": "code",
      "source": [
        "y_pred = linear_model.predict(X_test)\n",
        "error = mae(y_test, y_pred)\n",
        "print(\"Mean absolute error : \" + str(error))"
      ],
      "metadata": {
        "colab": {
          "base_uri": "https://localhost:8080/"
        },
        "outputId": "05b0597c-2fe2-45a4-a3e5-cd9693dfe310",
        "id": "7-lXmCV0g5pu"
      },
      "execution_count": null,
      "outputs": [
        {
          "output_type": "stream",
          "name": "stdout",
          "text": [
            "158/158 [==============================] - 0s 1ms/step\n",
            "Mean absolute error : 0.11406896316076322\n"
          ]
        }
      ]
    },
    {
      "cell_type": "markdown",
      "source": [
        "# Neural Network\n",
        "\n",
        "\n",
        "\n",
        "\n",
        "**Neural networks** emulate the way a human brain functions, enabling computers to recognize patterns and solve everyday issues. Artificial neural networks (ANNs) comprise 3 distinct node layers: input, hidden, and output. Nodes, which are artificial neurons, are interconnected and have weights and thresholds related to them. If the output generated by a node surpasses the specified threshold value, the output data will be sent to the succeeding layer.\n",
        "\n",
        "The neural network model has less MAE on our test data. meaning that it has performed better on this dataset in comparison to linear regression.\n",
        "\n",
        "\n"
      ],
      "metadata": {
        "id": "SXMIuRSyjBlN"
      }
    },
    {
      "cell_type": "code",
      "source": [
        "normalizer = tf.keras.layers.Normalization(axis=-1)\n",
        "normalizer.adapt(np.array(X_train))\n",
        "neural_network = Sequential() # initialize neural network\n",
        "neural_network.add(normalizer)\n",
        "neural_network.add(Dense(units = 8, kernel_initializer = 'uniform', activation = 'relu'))\n",
        "neural_network.add(Dense(units = 4, kernel_initializer = 'uniform', activation = 'relu'))\n",
        "neural_network.add(Dense(units = 1))\n",
        "neural_network.compile(optimizer=tf.keras.optimizers.Adam(0.001), loss='mean_absolute_error')\n",
        "history = neural_network.fit(\n",
        "    X_train,\n",
        "    y_train,\n",
        "    epochs=10,\n",
        "    validation_data = val_dataset)\n",
        "plot_loss(history)"
      ],
      "metadata": {
        "colab": {
          "base_uri": "https://localhost:8080/",
          "height": 630
        },
        "id": "iIalNteKlD0R",
        "outputId": "34de4eab-291c-46ee-fd91-8246c81d3c83"
      },
      "execution_count": null,
      "outputs": [
        {
          "output_type": "stream",
          "name": "stdout",
          "text": [
            "Epoch 1/10\n",
            "153/153 [==============================] - 2s 4ms/step - loss: 0.0269 - val_loss: 0.0996\n",
            "Epoch 2/10\n",
            "153/153 [==============================] - 0s 3ms/step - loss: 0.0149 - val_loss: 0.0995\n",
            "Epoch 3/10\n",
            "153/153 [==============================] - 0s 3ms/step - loss: 0.0148 - val_loss: 0.0978\n",
            "Epoch 4/10\n",
            "153/153 [==============================] - 0s 3ms/step - loss: 0.0148 - val_loss: 0.1018\n",
            "Epoch 5/10\n",
            "153/153 [==============================] - 0s 3ms/step - loss: 0.0149 - val_loss: 0.1022\n",
            "Epoch 6/10\n",
            "153/153 [==============================] - 0s 3ms/step - loss: 0.0148 - val_loss: 0.1003\n",
            "Epoch 7/10\n",
            "153/153 [==============================] - 0s 3ms/step - loss: 0.0148 - val_loss: 0.1014\n",
            "Epoch 8/10\n",
            "153/153 [==============================] - 2s 13ms/step - loss: 0.0148 - val_loss: 0.1001\n",
            "Epoch 9/10\n",
            "153/153 [==============================] - 0s 3ms/step - loss: 0.0148 - val_loss: 0.1022\n",
            "Epoch 10/10\n",
            "153/153 [==============================] - 0s 3ms/step - loss: 0.0148 - val_loss: 0.0985\n"
          ]
        },
        {
          "output_type": "display_data",
          "data": {
            "text/plain": [
              "<Figure size 432x288 with 1 Axes>"
            ],
            "image/png": "[encoded data removed]"
          },
          "metadata": {
            "needs_background": "light"
          }
        }
      ]
    },
    {
      "cell_type": "code",
      "source": [
        "y_pred = neural_network.predict(X_test)\n",
        "error = mae(y_test, y_pred)\n",
        "print(\"Mean absolute error : \" + str(error))"
      ],
      "metadata": {
        "colab": {
          "base_uri": "https://localhost:8080/"
        },
        "id": "_VRQHni1l5LU",
        "outputId": "1a7bd235-6be8-4002-9ae0-0d7a5df57133"
      },
      "execution_count": null,
      "outputs": [
        {
          "output_type": "stream",
          "name": "stdout",
          "text": [
            "158/158 [==============================] - 0s 1ms/step\n",
            "Mean absolute error : 0.08362879505916126\n"
          ]
        }
      ]
    },
    {
      "cell_type": "markdown",
      "source": [
        "# Feature Importance\n",
        "\n",
        "feature importance can be used to calculate a score for each of the features we have in our dataset. We can determine how important each feature is to the model based on these scores.   This means that  Feature scores indicate how much impact a feature will have on the model outcome."
      ],
      "metadata": {
        "id": "xQe6l7QMuWc7"
      }
    },
    {
      "cell_type": "code",
      "source": [
        "import pandas as pd\n",
        "import numpy as np\n",
        "from scipy.stats import mode\n",
        "import tensorflow as tf\n",
        "\n",
        "\n",
        "# a function for feature analysis\n",
        "def feature_analysis(X, model, feature_names):\n",
        "    # determine first and second partial derivatives\n",
        "    with tf.GradientTape() as snd:\n",
        "        snd.watch(X)\n",
        "        with tf.GradientTape() as fst:\n",
        "            fst.watch(X)\n",
        "            # prediction with the neural network, i.e., f(X)\n",
        "            pred = model(X)\n",
        "        # gradient\n",
        "        g = fst.gradient(pred, X)\n",
        "    # jacobian which outputs Hessian matrix\n",
        "    h = snd.batch_jacobian(g, X)\n",
        "\n",
        "    # first partial derivatives\n",
        "    g_np = g.numpy()\n",
        "    # average squard partial derivatives\n",
        "    g_mag_sq = (g_np**2).mean(axis = 0)\n",
        "    # square root of average squard partial derivatives\n",
        "    g_mag = np.sqrt(g_mag_sq)\n",
        "    # sign of average partial derivatives\n",
        "    g_dir = np.sign(g_np.mean(axis = 0))\n",
        "\n",
        "    # normalizing constant\n",
        "    C_ = np.sum(g_mag)\n",
        "    # normalized feature importance with sign\n",
        "    fi = (g_mag * g_dir) / C_\n",
        "\n",
        "    # get signs of each sample\n",
        "    fi_signs = np.sign(g_np)\n",
        "    # the mode is the sign which can be observed most often among all samples, the counts is how often this sign is observed\n",
        "    fi_modes, fi_counts = mode(fi_signs)\n",
        "    # dividing the count of the sign which is observed most often by the overall sample size gives us a frequency measure\n",
        "    # which is closer to one, the higher the conformity of the sign\n",
        "    fi_conformity = fi_counts / g_np.shape[0] #fi_modes * \n",
        "\n",
        "    # in analogy to the calculation above, we do the same thing with the second partial derivatives\n",
        "    h_np = h.numpy()\n",
        "    # get the square root of average squared direction of curvature and interactions\n",
        "    h_mag_sq = (h_np**2).mean(axis = 0)\n",
        "    h_mag = np.sqrt(h_mag_sq)\n",
        "\n",
        "    # the the sign of average curvature and interactions\n",
        "    h_dir = np.sign(h_np.mean(axis = 0))\n",
        "\n",
        "    # normalize the values on the diagonal line to compare the degree of non-linearity\n",
        "    C_nonlin = np.sum(h_mag.diagonal())\n",
        "    nonlinearity = (h_dir.diagonal() * h_mag.diagonal()) / C_nonlin\n",
        "\n",
        "    # normlize the interactions\n",
        "    lti = np.tril_indices(h_mag.shape[0], k = -1)\n",
        "    C_ia = np.sum(h_mag[lti])\n",
        "    interactions = (h_mag[lti] * h_dir[lti]) / C_ia\n",
        "\n",
        "    # bring curvature and interaction effects back to matrix format\n",
        "    snd_degree_summary = np.diag(nonlinearity)\n",
        "    a, b = lti\n",
        "    inter_iter = iter(interactions)\n",
        "    for i, j in zip(a, b):\n",
        "        snd_degree_summary[i, j] = next(inter_iter)\n",
        "        snd_degree_summary[j, i] = snd_degree_summary[i, j]\n",
        "\n",
        "    # get the conformity of second order effects\n",
        "    snd_signs = np.sign(h_np)\n",
        "    snd_degree_modes, snd_degreee_counts = mode(snd_signs)\n",
        "    snd_degree_conformity = snd_degreee_counts / h_np.shape[0] #snd_degree_modes * \n",
        "\n",
        "    # finally summarize feature importances and second order effects\n",
        "    summary = pd.DataFrame(data = snd_degree_summary, index = feature_names, columns = feature_names)\n",
        "    summary.loc[:, 'feature_importance'] = fi\n",
        "    # as well as their conformity\n",
        "    summary_conformity = pd.DataFrame(data = snd_degree_conformity.reshape(h_np.shape[1], h_np.shape[2]), index = feature_names, columns = feature_names)\n",
        "    summary_conformity.loc[:, 'feature_importance'] = fi_conformity.flatten()\n",
        "\n",
        "    return summary, summary_conformity\n",
        "\n"
      ],
      "metadata": {
        "id": "55uHhTNwuVZb"
      },
      "execution_count": null,
      "outputs": []
    },
    {
      "cell_type": "markdown",
      "source": [
        "**for benchmark linear regrssion**\n",
        "\n",
        "Based on the feature importance graphs we can understand that market_cap has the most importance but it's impact is negative. Next comes Book_to_market with a positive impact. and beta has an almost zero impact. Since the conformity is 1.0, it means that for 100% of time these values are correct. The importance for the test dataset is the same as the train dataset.\n",
        "\n",
        "with respect to $(R_{Mt} - R_{ft})$ , SMB and HML, we can conclude that the linear regression model has almost no sensitivity of asset return towards market portfolio, it mostly concentrates on how asset behaves for a large company and a company with high book_to_market value.\n"
      ],
      "metadata": {
        "id": "BYSaIs2Jzfes"
      }
    },
    {
      "cell_type": "code",
      "source": [
        "my_model = linear_model\n",
        "X_train_tensor = tf.Variable(X_train)\n",
        "X_test_tensor = tf.Variable(X_test)\n",
        "sum, sum_c = feature_analysis(X_train_tensor, my_model, X_train.columns)\n",
        "sum_test, sum_c_test = feature_analysis(X_test_tensor, my_model, X_train.columns)\n",
        "\n",
        "fig,axs = plt.subplots(1,2, figsize=(12,12), sharey= True)\n",
        "\n",
        "fi_train = pd.DataFrame(sum[\"feature_importance\"])\n",
        "fi_train.loc[:, \"feature_importance_abs\"] = fi_train.feature_importance.abs()\n",
        "fi_train.sort_values(by=\"feature_importance_abs\", ascending=True, inplace =True)\n",
        "fi_train.plot.barh(ax=axs[0])\n",
        "\n",
        "fi_test = pd.DataFrame(sum_test[\"feature_importance\"])\n",
        "fi_test.loc[:, \"feature_importance_abs\"] = fi_test.feature_importance.abs()\n",
        "fi_test.sort_values(by=\"feature_importance_abs\", ascending=True, inplace =True)\n",
        "fi_test.plot.barh(ax=axs[1])\n",
        "\n",
        "axs[0].legend(bbox_to_anchor=(0.95,1.1))\n",
        "axs[1].legend(bbox_to_anchor=(0.95,1.1))\n",
        "\n",
        "display(sum_c)"
      ],
      "metadata": {
        "id": "UXFtHQvVb0pv",
        "colab": {
          "base_uri": "https://localhost:8080/",
          "height": 1000
        },
        "outputId": "cd263dd6-8522-4019-a4fe-3aa4f125b137"
      },
      "execution_count": null,
      "outputs": [
        {
          "output_type": "stream",
          "name": "stderr",
          "text": [
            "WARNING:tensorflow:5 out of the last 5 calls to <function pfor.<locals>.f at 0x7f30a7e4fe50> triggered tf.function retracing. Tracing is expensive and the excessive number of tracings could be due to (1) creating @tf.function repeatedly in a loop, (2) passing tensors with different shapes, (3) passing Python objects instead of tensors. For (1), please define your @tf.function outside of the loop. For (2), @tf.function has reduce_retracing=True option that can avoid unnecessary retracing. For (3), please refer to https://www.tensorflow.org/guide/function#controlling_retracing and https://www.tensorflow.org/api_docs/python/tf/function for  more details.\n",
            "<ipython-input-10-1f5cc1f7b3cd>:54: RuntimeWarning:\n",
            "\n",
            "invalid value encountered in true_divide\n",
            "\n",
            "<ipython-input-10-1f5cc1f7b3cd>:59: RuntimeWarning:\n",
            "\n",
            "invalid value encountered in true_divide\n",
            "\n",
            "WARNING:tensorflow:6 out of the last 6 calls to <function pfor.<locals>.f at 0x7f30a7e4f280> triggered tf.function retracing. Tracing is expensive and the excessive number of tracings could be due to (1) creating @tf.function repeatedly in a loop, (2) passing tensors with different shapes, (3) passing Python objects instead of tensors. For (1), please define your @tf.function outside of the loop. For (2), @tf.function has reduce_retracing=True option that can avoid unnecessary retracing. For (3), please refer to https://www.tensorflow.org/guide/function#controlling_retracing and https://www.tensorflow.org/api_docs/python/tf/function for  more details.\n"
          ]
        },
        {
          "output_type": "display_data",
          "data": {
            "text/plain": [
              "                book_to_market  market_cap  beta  feature_importance\n",
              "book_to_market             1.0         1.0   1.0                 1.0\n",
              "market_cap                 1.0         1.0   1.0                 1.0\n",
              "beta                       1.0         1.0   1.0                 1.0"
            ],
            "text/html": [
              "\n",
              "  <div id=\"df-6289b06d-bffe-4879-8846-b7c4906df059\">\n",
              "    <div class=\"colab-df-container\">\n",
              "      <div>\n",
              "<style scoped>\n",
              "    .dataframe tbody tr th:only-of-type {\n",
              "        vertical-align: middle;\n",
              "    }\n",
              "\n",
              "    .dataframe tbody tr th {\n",
              "        vertical-align: top;\n",
              "    }\n",
              "\n",
              "    .dataframe thead th {\n",
              "        text-align: right;\n",
              "    }\n",
              "</style>\n",
              "<table border=\"1\" class=\"dataframe\">\n",
              "  <thead>\n",
              "    <tr style=\"text-align: right;\">\n",
              "      <th></th>\n",
              "      <th>book_to_market</th>\n",
              "      <th>market_cap</th>\n",
              "      <th>beta</th>\n",
              "      <th>feature_importance</th>\n",
              "    </tr>\n",
              "  </thead>\n",
              "  <tbody>\n",
              "    <tr>\n",
              "      <th>book_to_market</th>\n",
              "      <td>1.0</td>\n",
              "      <td>1.0</td>\n",
              "      <td>1.0</td>\n",
              "      <td>1.0</td>\n",
              "    </tr>\n",
              "    <tr>\n",
              "      <th>market_cap</th>\n",
              "      <td>1.0</td>\n",
              "      <td>1.0</td>\n",
              "      <td>1.0</td>\n",
              "      <td>1.0</td>\n",
              "    </tr>\n",
              "    <tr>\n",
              "      <th>beta</th>\n",
              "      <td>1.0</td>\n",
              "      <td>1.0</td>\n",
              "      <td>1.0</td>\n",
              "      <td>1.0</td>\n",
              "    </tr>\n",
              "  </tbody>\n",
              "</table>\n",
              "</div>\n",
              "      <button class=\"colab-df-convert\" onclick=\"convertToInteractive('df-6289b06d-bffe-4879-8846-b7c4906df059')\"\n",
              "              title=\"Convert this dataframe to an interactive table.\"\n",
              "              style=\"display:none;\">\n",
              "        \n",
              "  <svg xmlns=\"http://www.w3.org/2000/svg\" height=\"24px\"viewBox=\"0 0 24 24\"\n",
              "       width=\"24px\">\n",
              "    <path d=\"M0 0h24v24H0V0z\" fill=\"none\"/>\n",
              "    <path d=\"M18.56 5.44l.94 2.06.94-2.06 2.06-.94-2.06-.94-.94-2.06-.94 2.06-2.06.94zm-11 1L8.5 8.5l.94-2.06 2.06-.94-2.06-.94L8.5 2.5l-.94 2.06-2.06.94zm10 10l.94 2.06.94-2.06 2.06-.94-2.06-.94-.94-2.06-.94 2.06-2.06.94z\"/><path d=\"M17.41 7.96l-1.37-1.37c-.4-.4-.92-.59-1.43-.59-.52 0-1.04.2-1.43.59L10.3 9.45l-7.72 7.72c-.78.78-.78 2.05 0 2.83L4 21.41c.39.39.9.59 1.41.59.51 0 1.02-.2 1.41-.59l7.78-7.78 2.81-2.81c.8-.78.8-2.07 0-2.86zM5.41 20L4 18.59l7.72-7.72 1.47 1.35L5.41 20z\"/>\n",
              "  </svg>\n",
              "      </button>\n",
              "      \n",
              "  <style>\n",
              "    .colab-df-container {\n",
              "      display:flex;\n",
              "      flex-wrap:wrap;\n",
              "      gap: 12px;\n",
              "    }\n",
              "\n",
              "    .colab-df-convert {\n",
              "      background-color: #E8F0FE;\n",
              "      border: none;\n",
              "      border-radius: 50%;\n",
              "      cursor: pointer;\n",
              "      display: none;\n",
              "      fill: #1967D2;\n",
              "      height: 32px;\n",
              "      padding: 0 0 0 0;\n",
              "      width: 32px;\n",
              "    }\n",
              "\n",
              "    .colab-df-convert:hover {\n",
              "      background-color: #E2EBFA;\n",
              "      box-shadow: 0px 1px 2px rgba(60, 64, 67, 0.3), 0px 1px 3px 1px rgba(60, 64, 67, 0.15);\n",
              "      fill: #174EA6;\n",
              "    }\n",
              "\n",
              "    [theme=dark] .colab-df-convert {\n",
              "      background-color: #3B4455;\n",
              "      fill: #D2E3FC;\n",
              "    }\n",
              "\n",
              "    [theme=dark] .colab-df-convert:hover {\n",
              "      background-color: #434B5C;\n",
              "      box-shadow: 0px 1px 3px 1px rgba(0, 0, 0, 0.15);\n",
              "      filter: drop-shadow(0px 1px 2px rgba(0, 0, 0, 0.3));\n",
              "      fill: #FFFFFF;\n",
              "    }\n",
              "  </style>\n",
              "\n",
              "      <script>\n",
              "        const buttonEl =\n",
              "          document.querySelector('#df-6289b06d-bffe-4879-8846-b7c4906df059 button.colab-df-convert');\n",
              "        buttonEl.style.display =\n",
              "          google.colab.kernel.accessAllowed ? 'block' : 'none';\n",
              "\n",
              "        async function convertToInteractive(key) {\n",
              "          const element = document.querySelector('#df-6289b06d-bffe-4879-8846-b7c4906df059');\n",
              "          const dataTable =\n",
              "            await google.colab.kernel.invokeFunction('convertToInteractive',\n",
              "                                                     [key], {});\n",
              "          if (!dataTable) return;\n",
              "\n",
              "          const docLinkHtml = 'Like what you see? Visit the ' +\n",
              "            '<a target=\"_blank\" href=https://colab.research.google.com/notebooks/data_table.ipynb>data table notebook</a>'\n",
              "            + ' to learn more about interactive tables.';\n",
              "          element.innerHTML = '';\n",
              "          dataTable['output_type'] = 'display_data';\n",
              "          await google.colab.output.renderOutput(dataTable, element);\n",
              "          const docLink = document.createElement('div');\n",
              "          docLink.innerHTML = docLinkHtml;\n",
              "          element.appendChild(docLink);\n",
              "        }\n",
              "      </script>\n",
              "    </div>\n",
              "  </div>\n",
              "  "
            ]
          },
          "metadata": {}
        },
        {
          "output_type": "display_data",
          "data": {
            "text/plain": [
              "<Figure size 864x864 with 2 Axes>"
            ],
            "image/png": "[encoded data removed]"
          },
          "metadata": {
            "needs_background": "light"
          }
        }
      ]
    },
    {
      "cell_type": "markdown",
      "source": [
        "**for neural network**\n",
        "\n",
        "Based on the feature importance graphs we can understand that Book_to_market has the most important and it's impact is positive. Next comes beta with a negative impact. Finally, market_cap has the least importance with a negative impact. the importance of book_to_market for the test is almost the same as the difffrence of the sign. For the other two features, the importance is less in the test in comparison to train. The conformity for book_to_market is 84% but for the other two features is almost 100%.\n",
        "\n",
        "with respect to $(R_{Mt} - R_{ft})$ , SMB and HML, we can conclude that the neural network model has a negative sensitivity of asset return towards market portfolio, it mostly concentrates on how asset behaves for a large company and a company with high book_to_market value.\n"
      ],
      "metadata": {
        "id": "tdvSCmhAb1Hc"
      }
    },
    {
      "cell_type": "code",
      "source": [
        "my_model = neural_network\n",
        "X_train_tensor = tf.Variable(X_train)\n",
        "X_test_tensor = tf.Variable(X_test)\n",
        "sum, sum_c = feature_analysis(X_train_tensor, my_model, X_train.columns)\n",
        "sum_test, sum_c_test = feature_analysis(X_test_tensor, my_model, X_train.columns)\n",
        "\n",
        "fig,axs = plt.subplots(1,2, figsize=(12,12), sharey= True)\n",
        "\n",
        "fi_train = pd.DataFrame(sum[\"feature_importance\"])\n",
        "fi_train.loc[:, \"feature_importance_abs\"] = fi_train.feature_importance.abs()\n",
        "fi_train.sort_values(by=\"feature_importance_abs\", ascending=True, inplace =True)\n",
        "fi_train.plot.barh(ax=axs[0])\n",
        "\n",
        "fi_test = pd.DataFrame(sum_test[\"feature_importance\"])\n",
        "fi_test.loc[:, \"feature_importance_abs\"] = fi_test.feature_importance.abs()\n",
        "fi_test.sort_values(by=\"feature_importance_abs\", ascending=True, inplace =True)\n",
        "fi_test.plot.barh(ax=axs[1])\n",
        "\n",
        "axs[0].legend(bbox_to_anchor=(0.95,1.1))\n",
        "axs[1].legend(bbox_to_anchor=(0.95,1.1))\n",
        "\n",
        "display(sum_c)"
      ],
      "metadata": {
        "id": "sAML1FASzr-X",
        "colab": {
          "base_uri": "https://localhost:8080/",
          "height": 1000
        },
        "outputId": "45b4b70a-af2b-497f-f322-14c1af019382"
      },
      "execution_count": null,
      "outputs": [
        {
          "output_type": "stream",
          "name": "stderr",
          "text": [
            "<ipython-input-10-1f5cc1f7b3cd>:54: RuntimeWarning:\n",
            "\n",
            "invalid value encountered in true_divide\n",
            "\n",
            "<ipython-input-10-1f5cc1f7b3cd>:59: RuntimeWarning:\n",
            "\n",
            "invalid value encountered in true_divide\n",
            "\n"
          ]
        },
        {
          "output_type": "display_data",
          "data": {
            "text/plain": [
              "                book_to_market  market_cap  beta  feature_importance\n",
              "book_to_market             1.0         1.0   1.0            0.844563\n",
              "market_cap                 1.0         1.0   1.0            0.998566\n",
              "beta                       1.0         1.0   1.0            1.000000"
            ],
            "text/html": [
              "\n",
              "  <div id=\"df-8c8a4be2-52eb-4e75-8769-203104fd26d7\">\n",
              "    <div class=\"colab-df-container\">\n",
              "      <div>\n",
              "<style scoped>\n",
              "    .dataframe tbody tr th:only-of-type {\n",
              "        vertical-align: middle;\n",
              "    }\n",
              "\n",
              "    .dataframe tbody tr th {\n",
              "        vertical-align: top;\n",
              "    }\n",
              "\n",
              "    .dataframe thead th {\n",
              "        text-align: right;\n",
              "    }\n",
              "</style>\n",
              "<table border=\"1\" class=\"dataframe\">\n",
              "  <thead>\n",
              "    <tr style=\"text-align: right;\">\n",
              "      <th></th>\n",
              "      <th>book_to_market</th>\n",
              "      <th>market_cap</th>\n",
              "      <th>beta</th>\n",
              "      <th>feature_importance</th>\n",
              "    </tr>\n",
              "  </thead>\n",
              "  <tbody>\n",
              "    <tr>\n",
              "      <th>book_to_market</th>\n",
              "      <td>1.0</td>\n",
              "      <td>1.0</td>\n",
              "      <td>1.0</td>\n",
              "      <td>0.844563</td>\n",
              "    </tr>\n",
              "    <tr>\n",
              "      <th>market_cap</th>\n",
              "      <td>1.0</td>\n",
              "      <td>1.0</td>\n",
              "      <td>1.0</td>\n",
              "      <td>0.998566</td>\n",
              "    </tr>\n",
              "    <tr>\n",
              "      <th>beta</th>\n",
              "      <td>1.0</td>\n",
              "      <td>1.0</td>\n",
              "      <td>1.0</td>\n",
              "      <td>1.000000</td>\n",
              "    </tr>\n",
              "  </tbody>\n",
              "</table>\n",
              "</div>\n",
              "      <button class=\"colab-df-convert\" onclick=\"convertToInteractive('df-8c8a4be2-52eb-4e75-8769-203104fd26d7')\"\n",
              "              title=\"Convert this dataframe to an interactive table.\"\n",
              "              style=\"display:none;\">\n",
              "        \n",
              "  <svg xmlns=\"http://www.w3.org/2000/svg\" height=\"24px\"viewBox=\"0 0 24 24\"\n",
              "       width=\"24px\">\n",
              "    <path d=\"M0 0h24v24H0V0z\" fill=\"none\"/>\n",
              "    <path d=\"M18.56 5.44l.94 2.06.94-2.06 2.06-.94-2.06-.94-.94-2.06-.94 2.06-2.06.94zm-11 1L8.5 8.5l.94-2.06 2.06-.94-2.06-.94L8.5 2.5l-.94 2.06-2.06.94zm10 10l.94 2.06.94-2.06 2.06-.94-2.06-.94-.94-2.06-.94 2.06-2.06.94z\"/><path d=\"M17.41 7.96l-1.37-1.37c-.4-.4-.92-.59-1.43-.59-.52 0-1.04.2-1.43.59L10.3 9.45l-7.72 7.72c-.78.78-.78 2.05 0 2.83L4 21.41c.39.39.9.59 1.41.59.51 0 1.02-.2 1.41-.59l7.78-7.78 2.81-2.81c.8-.78.8-2.07 0-2.86zM5.41 20L4 18.59l7.72-7.72 1.47 1.35L5.41 20z\"/>\n",
              "  </svg>\n",
              "      </button>\n",
              "      \n",
              "  <style>\n",
              "    .colab-df-container {\n",
              "      display:flex;\n",
              "      flex-wrap:wrap;\n",
              "      gap: 12px;\n",
              "    }\n",
              "\n",
              "    .colab-df-convert {\n",
              "      background-color: #E8F0FE;\n",
              "      border: none;\n",
              "      border-radius: 50%;\n",
              "      cursor: pointer;\n",
              "      display: none;\n",
              "      fill: #1967D2;\n",
              "      height: 32px;\n",
              "      padding: 0 0 0 0;\n",
              "      width: 32px;\n",
              "    }\n",
              "\n",
              "    .colab-df-convert:hover {\n",
              "      background-color: #E2EBFA;\n",
              "      box-shadow: 0px 1px 2px rgba(60, 64, 67, 0.3), 0px 1px 3px 1px rgba(60, 64, 67, 0.15);\n",
              "      fill: #174EA6;\n",
              "    }\n",
              "\n",
              "    [theme=dark] .colab-df-convert {\n",
              "      background-color: #3B4455;\n",
              "      fill: #D2E3FC;\n",
              "    }\n",
              "\n",
              "    [theme=dark] .colab-df-convert:hover {\n",
              "      background-color: #434B5C;\n",
              "      box-shadow: 0px 1px 3px 1px rgba(0, 0, 0, 0.15);\n",
              "      filter: drop-shadow(0px 1px 2px rgba(0, 0, 0, 0.3));\n",
              "      fill: #FFFFFF;\n",
              "    }\n",
              "  </style>\n",
              "\n",
              "      <script>\n",
              "        const buttonEl =\n",
              "          document.querySelector('#df-8c8a4be2-52eb-4e75-8769-203104fd26d7 button.colab-df-convert');\n",
              "        buttonEl.style.display =\n",
              "          google.colab.kernel.accessAllowed ? 'block' : 'none';\n",
              "\n",
              "        async function convertToInteractive(key) {\n",
              "          const element = document.querySelector('#df-8c8a4be2-52eb-4e75-8769-203104fd26d7');\n",
              "          const dataTable =\n",
              "            await google.colab.kernel.invokeFunction('convertToInteractive',\n",
              "                                                     [key], {});\n",
              "          if (!dataTable) return;\n",
              "\n",
              "          const docLinkHtml = 'Like what you see? Visit the ' +\n",
              "            '<a target=\"_blank\" href=https://colab.research.google.com/notebooks/data_table.ipynb>data table notebook</a>'\n",
              "            + ' to learn more about interactive tables.';\n",
              "          element.innerHTML = '';\n",
              "          dataTable['output_type'] = 'display_data';\n",
              "          await google.colab.output.renderOutput(dataTable, element);\n",
              "          const docLink = document.createElement('div');\n",
              "          docLink.innerHTML = docLinkHtml;\n",
              "          element.appendChild(docLink);\n",
              "        }\n",
              "      </script>\n",
              "    </div>\n",
              "  </div>\n",
              "  "
            ]
          },
          "metadata": {}
        },
        {
          "output_type": "display_data",
          "data": {
            "text/plain": [
              "<Figure size 864x864 with 2 Axes>"
            ],
            "image/png": "[encoded data removed]"
          },
          "metadata": {
            "needs_background": "light"
          }
        }
      ]
    },
    {
      "cell_type": "markdown",
      "source": [
        "# optimization\n",
        "\n",
        "For optimizing our neural network and finding the best set of hyperparameters, we will use Optuna.\n",
        "Optuna is a python library that allows us to automate hyperparameter search and optimize our model.\n",
        "In order to use Optuna, we need to define an objective. Optuna algorithm will try to minimize this value. In this assignment, we have used Mean absolute error as our objective.\n",
        "The hyperparameters that we are looking for are the layer count and node count in each layer. The layer count is between 1 to 7 and the node count is between 4 to 128. We try optimizing our model in 50 trials. \n",
        "if we compare the results from the optimized neural network to the baseline neural network, we can see that we had a very small decrease in our MAE value. \n",
        "\n",
        " Based on the feature importance graphs we can understand that Book_to_market has the most importance and it's impact is positive. Next comes market_cap with a positive impact. Finally, beta has the least importance with a negative impact. The importance for test is very close to train.  The conformity for market_cap is 88% but for the other two features is almost 100%.\n",
        "\n",
        " with respect to $(R_{Mt} - R_{ft})$ , SMB and HML, we can conclude that the optimized neural network model has a negative sensitivity of asset return towards market portfolio, it mostly concentrates on how asset behaves for a small company and a company with high book_to_market value."
      ],
      "metadata": {
        "id": "5QTpGTYVhmZV"
      }
    },
    {
      "cell_type": "code",
      "source": [
        "def create_model(trial):\n",
        "  normalizer = tf.keras.layers.Normalization(axis=-1)\n",
        "  normalizer.adapt(np.array(X_train))\n",
        "\n",
        "  n_layers = trial.suggest_int('n_layers', 1, 7)\n",
        "  # print(n_layers)\n",
        "  model = tf.keras.Sequential()\n",
        "  model.add(normalizer)\n",
        "  for i in range(n_layers-1):\n",
        "    \n",
        "    activation = trial.suggest_categorical(f\"activation_l{i}\",[\"tanh\", \"sigmoid\",\"relu\"])\n",
        "    num_hidden = trial.suggest_int(f'n_units_l{i}', 4, 128, log=True)\n",
        "    # print(num_hidden)\n",
        "    # print(activation)\n",
        "    model.add(tf.keras.layers.Dense(units = num_hidden, kernel_initializer = 'uniform', activation=activation))\n",
        "  model.add(tf.keras.layers.Dense(1))\n",
        "  model.compile(optimizer=tf.keras.optimizers.Adam(0.001), loss ='mean_absolute_error')\n",
        "  return model"
      ],
      "metadata": {
        "id": "cKIOxamWkalP"
      },
      "execution_count": null,
      "outputs": []
    },
    {
      "cell_type": "code",
      "source": [
        "# Function to get hardware strategy\n",
        "def get_hardware_strategy():\n",
        "    try:\n",
        "        # TPU detection. No parameters necessary if TPU_NAME environment variable is\n",
        "        # set: this is always the case on Kaggle.\n",
        "        tpu = tf.distribute.cluster_resolver.TPUClusterResolver()\n",
        "        print('Running on TPU ', tpu.master())\n",
        "    except ValueError:\n",
        "        tpu = None\n",
        "\n",
        "    if tpu:\n",
        "        tf.config.experimental_connect_to_cluster(tpu)\n",
        "        tf.tpu.experimental.initialize_tpu_system(tpu)\n",
        "        strategy = tf.distribute.experimental.TPUStrategy(tpu)\n",
        "        tf.config.optimizer.set_jit(True)\n",
        "    else:\n",
        "        # Default distribution strategy in Tensorflow. Works on CPU and single GPU.\n",
        "        strategy = tf.distribute.get_strategy()\n",
        "\n",
        "    return tpu, strategy\n",
        "\n",
        "tpu, strategy = get_hardware_strategy()"
      ],
      "metadata": {
        "id": "AiVQcttg6AiV"
      },
      "execution_count": null,
      "outputs": []
    },
    {
      "cell_type": "code",
      "source": [
        "def objective(trial):\n",
        "    \n",
        "    keras.backend.clear_session()\n",
        "    \n",
        "    model = create_model(trial)\n",
        "\n",
        "    \n",
        "    model.fit(\n",
        "        X_train,\n",
        "        y_train,\n",
        "        callbacks=[TFKerasPruningCallback(trial, \"val_loss\")],\n",
        "        epochs=10,\n",
        "        validation_data=val_dataset\n",
        "    )\n",
        "    y_pred = model.predict(X_test)\n",
        "    score = mae(y_test,y_pred)\n",
        "    return score\n",
        "\n"
      ],
      "metadata": {
        "id": "EytSymg5joDy"
      },
      "execution_count": null,
      "outputs": []
    },
    {
      "cell_type": "code",
      "source": [
        "study = optuna.create_study(direction=\"minimize\", sampler=optuna.samplers.TPESampler(), pruner=optuna.pruners.HyperbandPruner())\n",
        "study.optimize(objective, n_trials=50)\n",
        "pruned_trials = study.get_trials(deepcopy=False, states=[TrialState.PRUNED])\n",
        "complete_trials = study.get_trials(deepcopy=False, states=[TrialState.COMPLETE])\n",
        "plot_optimization_history(study)"
      ],
      "metadata": {
        "colab": {
          "base_uri": "https://localhost:8080/",
          "height": 1000
        },
        "id": "Pe3G5ZGp4t2s",
        "outputId": "1f72deb9-26cb-4d3c-d55d-73eace06e115"
      },
      "execution_count": null,
      "outputs": [
        {
          "output_type": "stream",
          "name": "stderr",
          "text": [
            "\u001b[32m[I 2022-12-20 23:50:53,171]\u001b[0m A new study created in memory with name: no-name-f744b565-3072-41ed-8b00-bde65c4f9a41\u001b[0m\n"
          ]
        },
        {
          "output_type": "stream",
          "name": "stdout",
          "text": [
            "Epoch 1/10\n",
            "153/153 [==============================] - 2s 8ms/step - loss: 0.0250 - val_loss: 0.0925\n",
            "Epoch 2/10\n",
            "153/153 [==============================] - 1s 8ms/step - loss: 0.0183 - val_loss: 0.0822\n",
            "Epoch 3/10\n",
            "153/153 [==============================] - 1s 8ms/step - loss: 0.0182 - val_loss: 0.0941\n",
            "Epoch 4/10\n",
            "153/153 [==============================] - 1s 9ms/step - loss: 0.0194 - val_loss: 0.1060\n",
            "Epoch 5/10\n",
            "153/153 [==============================] - 1s 8ms/step - loss: 0.0189 - val_loss: 0.0889\n",
            "Epoch 6/10\n",
            "153/153 [==============================] - 2s 11ms/step - loss: 0.0195 - val_loss: 0.0949\n",
            "Epoch 7/10\n",
            "153/153 [==============================] - 1s 8ms/step - loss: 0.0168 - val_loss: 0.0926\n",
            "Epoch 8/10\n",
            "153/153 [==============================] - 1s 8ms/step - loss: 0.0177 - val_loss: 0.0998\n",
            "Epoch 9/10\n",
            "153/153 [==============================] - 1s 8ms/step - loss: 0.0178 - val_loss: 0.1135\n",
            "Epoch 10/10\n",
            "153/153 [==============================] - 1s 7ms/step - loss: 0.0177 - val_loss: 0.1088\n",
            "158/158 [==============================] - 0s 1ms/step\n"
          ]
        },
        {
          "output_type": "stream",
          "name": "stderr",
          "text": [
            "\u001b[32m[I 2022-12-20 23:51:08,016]\u001b[0m Trial 0 finished with value: 0.09734662517280275 and parameters: {'n_layers': 6, 'activation_l0': 'tanh', 'n_units_l0': 7, 'activation_l1': 'sigmoid', 'n_units_l1': 121, 'activation_l2': 'relu', 'n_units_l2': 9, 'activation_l3': 'sigmoid', 'n_units_l3': 115, 'activation_l4': 'relu', 'n_units_l4': 46}. Best is trial 0 with value: 0.09734662517280275.\u001b[0m\n"
          ]
        },
        {
          "output_type": "stream",
          "name": "stdout",
          "text": [
            "Epoch 1/10\n",
            "153/153 [==============================] - 1s 4ms/step - loss: 0.0214 - val_loss: 0.1029\n",
            "Epoch 2/10\n",
            "153/153 [==============================] - 0s 3ms/step - loss: 0.0148 - val_loss: 0.0985\n",
            "Epoch 3/10\n",
            "153/153 [==============================] - 1s 3ms/step - loss: 0.0149 - val_loss: 0.0993\n",
            "Epoch 4/10\n",
            "153/153 [==============================] - 0s 3ms/step - loss: 0.0148 - val_loss: 0.1038\n",
            "Epoch 5/10\n",
            "153/153 [==============================] - 0s 3ms/step - loss: 0.0149 - val_loss: 0.1010\n",
            "Epoch 6/10\n",
            "153/153 [==============================] - 0s 3ms/step - loss: 0.0148 - val_loss: 0.0944\n",
            "Epoch 7/10\n",
            "153/153 [==============================] - 0s 3ms/step - loss: 0.0148 - val_loss: 0.1019\n",
            "Epoch 8/10\n",
            "153/153 [==============================] - 0s 3ms/step - loss: 0.0148 - val_loss: 0.1018\n",
            "Epoch 9/10\n",
            "153/153 [==============================] - 0s 3ms/step - loss: 0.0148 - val_loss: 0.1017\n",
            "Epoch 10/10\n",
            "153/153 [==============================] - 1s 3ms/step - loss: 0.0148 - val_loss: 0.1005\n",
            "158/158 [==============================] - 0s 1ms/step\n"
          ]
        },
        {
          "output_type": "stream",
          "name": "stderr",
          "text": [
            "\u001b[32m[I 2022-12-20 23:51:14,610]\u001b[0m Trial 1 finished with value: 0.08861970962115406 and parameters: {'n_layers': 4, 'activation_l0': 'relu', 'n_units_l0': 115, 'activation_l1': 'relu', 'n_units_l1': 18, 'activation_l2': 'relu', 'n_units_l2': 10}. Best is trial 1 with value: 0.08861970962115406.\u001b[0m\n"
          ]
        },
        {
          "output_type": "stream",
          "name": "stdout",
          "text": [
            "Epoch 1/10\n",
            "153/153 [==============================] - 1s 4ms/step - loss: 0.0455 - val_loss: 0.0894\n",
            "Epoch 2/10\n",
            "134/153 [=========================>....] - ETA: 0s - loss: 0.0161"
          ]
        },
        {
          "output_type": "stream",
          "name": "stderr",
          "text": [
            "\u001b[32m[I 2022-12-20 23:51:16,715]\u001b[0m Trial 2 pruned. Trial was pruned at epoch 1.\u001b[0m\n"
          ]
        },
        {
          "output_type": "stream",
          "name": "stdout",
          "text": [
            "Epoch 1/10\n",
            "153/153 [==============================] - 1s 4ms/step - loss: 0.0196 - val_loss: 0.0989\n",
            "Epoch 2/10\n",
            "153/153 [==============================] - 1s 3ms/step - loss: 0.0150 - val_loss: 0.0970\n",
            "Epoch 3/10\n",
            "153/153 [==============================] - 1s 3ms/step - loss: 0.0150 - val_loss: 0.0975\n",
            "Epoch 4/10\n",
            "153/153 [==============================] - 0s 3ms/step - loss: 0.0150 - val_loss: 0.0988\n",
            "Epoch 5/10\n",
            "153/153 [==============================] - 0s 3ms/step - loss: 0.0149 - val_loss: 0.1005\n",
            "Epoch 6/10\n",
            "153/153 [==============================] - 1s 3ms/step - loss: 0.0149 - val_loss: 0.0889\n",
            "Epoch 7/10\n",
            "153/153 [==============================] - 1s 3ms/step - loss: 0.0152 - val_loss: 0.1019\n",
            "Epoch 8/10\n",
            "153/153 [==============================] - 0s 3ms/step - loss: 0.0148 - val_loss: 0.0985\n",
            "Epoch 9/10\n",
            "153/153 [==============================] - 1s 3ms/step - loss: 0.0149 - val_loss: 0.0993\n",
            "Epoch 10/10\n",
            "140/153 [==========================>...] - ETA: 0s - loss: 0.0148"
          ]
        },
        {
          "output_type": "stream",
          "name": "stderr",
          "text": [
            "\u001b[32m[I 2022-12-20 23:51:22,822]\u001b[0m Trial 3 pruned. Trial was pruned at epoch 9.\u001b[0m\n"
          ]
        },
        {
          "output_type": "stream",
          "name": "stdout",
          "text": [
            "Epoch 1/10\n",
            "153/153 [==============================] - 1s 4ms/step - loss: 0.0221 - val_loss: 0.1017\n",
            "Epoch 2/10\n",
            "153/153 [==============================] - 1s 4ms/step - loss: 0.0167 - val_loss: 0.0935\n",
            "Epoch 3/10\n",
            "153/153 [==============================] - 1s 4ms/step - loss: 0.0160 - val_loss: 0.1113\n",
            "Epoch 4/10\n",
            "153/153 [==============================] - 1s 3ms/step - loss: 0.0159 - val_loss: 0.1017\n",
            "Epoch 5/10\n",
            "153/153 [==============================] - 1s 3ms/step - loss: 0.0156 - val_loss: 0.1044\n",
            "Epoch 6/10\n",
            "153/153 [==============================] - 1s 4ms/step - loss: 0.0157 - val_loss: 0.0988\n",
            "Epoch 7/10\n",
            "153/153 [==============================] - 1s 3ms/step - loss: 0.0161 - val_loss: 0.1032\n",
            "Epoch 8/10\n",
            "153/153 [==============================] - 1s 4ms/step - loss: 0.0154 - val_loss: 0.1085\n",
            "Epoch 9/10\n",
            "153/153 [==============================] - 1s 3ms/step - loss: 0.0152 - val_loss: 0.1000\n",
            "Epoch 10/10\n",
            "153/153 [==============================] - 1s 4ms/step - loss: 0.0155 - val_loss: 0.0963\n",
            "158/158 [==============================] - 0s 2ms/step\n"
          ]
        },
        {
          "output_type": "stream",
          "name": "stderr",
          "text": [
            "\u001b[32m[I 2022-12-20 23:51:34,455]\u001b[0m Trial 4 finished with value: 0.08317347767888657 and parameters: {'n_layers': 6, 'activation_l0': 'relu', 'n_units_l0': 122, 'activation_l1': 'sigmoid', 'n_units_l1': 32, 'activation_l2': 'sigmoid', 'n_units_l2': 31, 'activation_l3': 'sigmoid', 'n_units_l3': 35, 'activation_l4': 'relu', 'n_units_l4': 14}. Best is trial 4 with value: 0.08317347767888657.\u001b[0m\n"
          ]
        },
        {
          "output_type": "stream",
          "name": "stdout",
          "text": [
            "Epoch 1/10\n",
            "153/153 [==============================] - 1s 4ms/step - loss: 0.0197 - val_loss: 0.1001\n",
            "Epoch 2/10\n",
            "153/153 [==============================] - 0s 3ms/step - loss: 0.0153 - val_loss: 0.1013\n",
            "Epoch 3/10\n",
            "153/153 [==============================] - 0s 3ms/step - loss: 0.0150 - val_loss: 0.1014\n",
            "Epoch 4/10\n",
            "153/153 [==============================] - 0s 3ms/step - loss: 0.0150 - val_loss: 0.1005\n",
            "Epoch 5/10\n",
            "153/153 [==============================] - 0s 3ms/step - loss: 0.0150 - val_loss: 0.1000\n",
            "Epoch 6/10\n",
            "153/153 [==============================] - 0s 3ms/step - loss: 0.0152 - val_loss: 0.1057\n",
            "Epoch 7/10\n",
            "153/153 [==============================] - 0s 3ms/step - loss: 0.0150 - val_loss: 0.0968\n",
            "Epoch 8/10\n",
            "153/153 [==============================] - 0s 3ms/step - loss: 0.0149 - val_loss: 0.1001\n",
            "Epoch 9/10\n",
            "153/153 [==============================] - 0s 3ms/step - loss: 0.0149 - val_loss: 0.1004\n",
            "Epoch 10/10\n",
            "153/153 [==============================] - 0s 3ms/step - loss: 0.0149 - val_loss: 0.0964\n",
            "158/158 [==============================] - 0s 1ms/step\n"
          ]
        },
        {
          "output_type": "stream",
          "name": "stderr",
          "text": [
            "\u001b[32m[I 2022-12-20 23:51:40,797]\u001b[0m Trial 5 finished with value: 0.0830363802092977 and parameters: {'n_layers': 3, 'activation_l0': 'relu', 'n_units_l0': 45, 'activation_l1': 'tanh', 'n_units_l1': 36}. Best is trial 5 with value: 0.0830363802092977.\u001b[0m\n"
          ]
        },
        {
          "output_type": "stream",
          "name": "stdout",
          "text": [
            "Epoch 1/10\n",
            "153/153 [==============================] - 1s 4ms/step - loss: 0.0202 - val_loss: 0.1009\n",
            "Epoch 2/10\n",
            "153/153 [==============================] - 0s 3ms/step - loss: 0.0153 - val_loss: 0.0961\n",
            "Epoch 3/10\n",
            "153/153 [==============================] - 0s 3ms/step - loss: 0.0152 - val_loss: 0.1019\n",
            "Epoch 4/10\n",
            "153/153 [==============================] - 1s 3ms/step - loss: 0.0152 - val_loss: 0.0996\n",
            "Epoch 5/10\n",
            "153/153 [==============================] - 0s 3ms/step - loss: 0.0154 - val_loss: 0.1039\n",
            "Epoch 6/10\n",
            "153/153 [==============================] - 1s 3ms/step - loss: 0.0153 - val_loss: 0.1013\n",
            "Epoch 7/10\n",
            "153/153 [==============================] - 0s 3ms/step - loss: 0.0152 - val_loss: 0.0989\n",
            "Epoch 8/10\n",
            "153/153 [==============================] - 1s 3ms/step - loss: 0.0154 - val_loss: 0.1011\n",
            "Epoch 9/10\n",
            "153/153 [==============================] - 0s 3ms/step - loss: 0.0153 - val_loss: 0.0946\n",
            "Epoch 10/10\n",
            "152/153 [============================>.] - ETA: 0s - loss: 0.0150"
          ]
        },
        {
          "output_type": "stream",
          "name": "stderr",
          "text": [
            "\u001b[32m[I 2022-12-20 23:51:46,888]\u001b[0m Trial 6 pruned. Trial was pruned at epoch 9.\u001b[0m\n"
          ]
        },
        {
          "output_type": "stream",
          "name": "stdout",
          "text": [
            "Epoch 1/10\n",
            "153/153 [==============================] - 1s 3ms/step - loss: 0.0904 - val_loss: 0.1014\n",
            "Epoch 2/10\n",
            "134/153 [=========================>....] - ETA: 0s - loss: 0.0157"
          ]
        },
        {
          "output_type": "stream",
          "name": "stderr",
          "text": [
            "\u001b[32m[I 2022-12-20 23:51:48,846]\u001b[0m Trial 7 pruned. Trial was pruned at epoch 1.\u001b[0m\n"
          ]
        },
        {
          "output_type": "stream",
          "name": "stdout",
          "text": [
            "Epoch 1/10\n",
            "153/153 [==============================] - 1s 4ms/step - loss: 0.0291 - val_loss: 0.1044\n",
            "Epoch 2/10\n",
            "153/153 [==============================] - 1s 3ms/step - loss: 0.0152 - val_loss: 0.0989\n",
            "Epoch 3/10\n",
            "153/153 [==============================] - 1s 4ms/step - loss: 0.0152 - val_loss: 0.1009\n",
            "Epoch 4/10\n",
            "145/153 [===========================>..] - ETA: 0s - loss: 0.0154"
          ]
        },
        {
          "output_type": "stream",
          "name": "stderr",
          "text": [
            "\u001b[32m[I 2022-12-20 23:51:52,443]\u001b[0m Trial 8 pruned. Trial was pruned at epoch 3.\u001b[0m\n"
          ]
        },
        {
          "output_type": "stream",
          "name": "stdout",
          "text": [
            "Epoch 1/10\n",
            "153/153 [==============================] - 1s 4ms/step - loss: 0.3747 - val_loss: 0.3370\n",
            "Epoch 2/10\n",
            "149/153 [============================>.] - ETA: 0s - loss: 0.2594"
          ]
        },
        {
          "output_type": "stream",
          "name": "stderr",
          "text": [
            "\u001b[32m[I 2022-12-20 23:51:54,335]\u001b[0m Trial 9 pruned. Trial was pruned at epoch 1.\u001b[0m\n"
          ]
        },
        {
          "output_type": "stream",
          "name": "stdout",
          "text": [
            "Epoch 1/10\n",
            "153/153 [==============================] - 1s 4ms/step - loss: 0.0967 - val_loss: 0.1322\n",
            "Epoch 2/10\n",
            "153/153 [==============================] - 1s 3ms/step - loss: 0.0464 - val_loss: 0.1305\n",
            "Epoch 3/10\n",
            "153/153 [==============================] - 1s 4ms/step - loss: 0.0453 - val_loss: 0.1292\n",
            "Epoch 4/10\n",
            "138/153 [==========================>...] - ETA: 0s - loss: 0.0313"
          ]
        },
        {
          "output_type": "stream",
          "name": "stderr",
          "text": [
            "\u001b[32m[I 2022-12-20 23:51:57,780]\u001b[0m Trial 10 pruned. Trial was pruned at epoch 3.\u001b[0m\n"
          ]
        },
        {
          "output_type": "stream",
          "name": "stdout",
          "text": [
            "Epoch 1/10\n",
            "153/153 [==============================] - 1s 3ms/step - loss: 0.7799 - val_loss: 0.9202\n",
            "Epoch 2/10\n",
            "135/153 [=========================>....] - ETA: 0s - loss: 0.6643"
          ]
        },
        {
          "output_type": "stream",
          "name": "stderr",
          "text": [
            "\u001b[32m[I 2022-12-20 23:51:59,362]\u001b[0m Trial 11 pruned. Trial was pruned at epoch 1.\u001b[0m\n"
          ]
        },
        {
          "output_type": "stream",
          "name": "stdout",
          "text": [
            "Epoch 1/10\n",
            "153/153 [==============================] - 2s 4ms/step - loss: 0.0213 - val_loss: 0.0999\n",
            "Epoch 2/10\n",
            "153/153 [==============================] - 2s 11ms/step - loss: 0.0152 - val_loss: 0.1017\n",
            "Epoch 3/10\n",
            "153/153 [==============================] - 1s 7ms/step - loss: 0.0153 - val_loss: 0.1019\n",
            "Epoch 4/10\n",
            "153/153 [==============================] - 2s 14ms/step - loss: 0.0155 - val_loss: 0.0993\n",
            "Epoch 5/10\n",
            "153/153 [==============================] - 2s 13ms/step - loss: 0.0149 - val_loss: 0.1029\n",
            "Epoch 6/10\n",
            "153/153 [==============================] - 2s 12ms/step - loss: 0.0148 - val_loss: 0.0988\n",
            "Epoch 7/10\n",
            "153/153 [==============================] - 2s 13ms/step - loss: 0.0149 - val_loss: 0.1002\n",
            "Epoch 8/10\n",
            "153/153 [==============================] - 1s 6ms/step - loss: 0.0148 - val_loss: 0.1022\n",
            "Epoch 9/10\n",
            "153/153 [==============================] - 1s 4ms/step - loss: 0.0148 - val_loss: 0.0995\n",
            "Epoch 10/10\n",
            "142/153 [==========================>...] - ETA: 0s - loss: 0.0148"
          ]
        },
        {
          "output_type": "stream",
          "name": "stderr",
          "text": [
            "\u001b[32m[I 2022-12-20 23:52:14,209]\u001b[0m Trial 12 pruned. Trial was pruned at epoch 9.\u001b[0m\n"
          ]
        },
        {
          "output_type": "stream",
          "name": "stdout",
          "text": [
            "Epoch 1/10\n",
            "153/153 [==============================] - 1s 4ms/step - loss: 0.0236 - val_loss: 0.0993\n",
            "Epoch 2/10\n",
            "147/153 [===========================>..] - ETA: 0s - loss: 0.0148"
          ]
        },
        {
          "output_type": "stream",
          "name": "stderr",
          "text": [
            "\u001b[32m[I 2022-12-20 23:52:16,291]\u001b[0m Trial 13 pruned. Trial was pruned at epoch 1.\u001b[0m\n"
          ]
        },
        {
          "output_type": "stream",
          "name": "stdout",
          "text": [
            "Epoch 1/10\n",
            "153/153 [==============================] - 1s 4ms/step - loss: 0.0247 - val_loss: 0.0949\n",
            "Epoch 2/10\n",
            "152/153 [============================>.] - ETA: 0s - loss: 0.0174"
          ]
        },
        {
          "output_type": "stream",
          "name": "stderr",
          "text": [
            "\u001b[32m[I 2022-12-20 23:52:18,264]\u001b[0m Trial 14 pruned. Trial was pruned at epoch 1.\u001b[0m\n"
          ]
        },
        {
          "output_type": "stream",
          "name": "stdout",
          "text": [
            "Epoch 1/10\n",
            "153/153 [==============================] - 1s 4ms/step - loss: 0.0170 - val_loss: 0.1001\n",
            "Epoch 2/10\n",
            "146/153 [===========================>..] - ETA: 0s - loss: 0.0152"
          ]
        },
        {
          "output_type": "stream",
          "name": "stderr",
          "text": [
            "\u001b[32m[I 2022-12-20 23:52:20,392]\u001b[0m Trial 15 pruned. Trial was pruned at epoch 1.\u001b[0m\n"
          ]
        },
        {
          "output_type": "stream",
          "name": "stdout",
          "text": [
            "Epoch 1/10\n",
            "153/153 [==============================] - 1s 3ms/step - loss: 0.0200 - val_loss: 0.0967\n",
            "Epoch 2/10\n",
            "137/153 [=========================>....] - ETA: 0s - loss: 0.0152"
          ]
        },
        {
          "output_type": "stream",
          "name": "stderr",
          "text": [
            "\u001b[32m[I 2022-12-20 23:52:22,145]\u001b[0m Trial 16 pruned. Trial was pruned at epoch 1.\u001b[0m\n"
          ]
        },
        {
          "output_type": "stream",
          "name": "stdout",
          "text": [
            "Epoch 1/10\n",
            "153/153 [==============================] - 1s 4ms/step - loss: 0.0353 - val_loss: 0.0983\n",
            "Epoch 2/10\n",
            "153/153 [==============================] - 1s 3ms/step - loss: 0.0154 - val_loss: 0.0951\n",
            "Epoch 3/10\n",
            "153/153 [==============================] - 0s 3ms/step - loss: 0.0155 - val_loss: 0.0985\n",
            "Epoch 4/10\n",
            "153/153 [==============================] - 1s 3ms/step - loss: 0.0152 - val_loss: 0.0982\n",
            "Epoch 5/10\n",
            "153/153 [==============================] - 1s 3ms/step - loss: 0.0150 - val_loss: 0.0999\n",
            "Epoch 6/10\n",
            "153/153 [==============================] - 1s 3ms/step - loss: 0.0153 - val_loss: 0.0967\n",
            "Epoch 7/10\n",
            "153/153 [==============================] - 0s 3ms/step - loss: 0.0151 - val_loss: 0.0968\n",
            "Epoch 8/10\n",
            "153/153 [==============================] - 1s 3ms/step - loss: 0.0152 - val_loss: 0.1009\n",
            "Epoch 9/10\n",
            "153/153 [==============================] - 1s 3ms/step - loss: 0.0154 - val_loss: 0.1019\n",
            "Epoch 10/10\n",
            "153/153 [==============================] - ETA: 0s - loss: 0.0154"
          ]
        },
        {
          "output_type": "stream",
          "name": "stderr",
          "text": [
            "\u001b[32m[I 2022-12-20 23:52:28,894]\u001b[0m Trial 17 pruned. Trial was pruned at epoch 9.\u001b[0m\n"
          ]
        },
        {
          "output_type": "stream",
          "name": "stdout",
          "text": [
            "Epoch 1/10\n",
            "153/153 [==============================] - 1s 4ms/step - loss: 0.0172 - val_loss: 0.0944\n",
            "Epoch 2/10\n",
            "141/153 [==========================>...] - ETA: 0s - loss: 0.0159"
          ]
        },
        {
          "output_type": "stream",
          "name": "stderr",
          "text": [
            "\u001b[32m[I 2022-12-20 23:52:36,291]\u001b[0m Trial 18 pruned. Trial was pruned at epoch 1.\u001b[0m\n"
          ]
        },
        {
          "output_type": "stream",
          "name": "stdout",
          "text": [
            "Epoch 1/10\n",
            "153/153 [==============================] - 1s 4ms/step - loss: 0.0188 - val_loss: 0.0972\n",
            "Epoch 2/10\n",
            "153/153 [==============================] - 0s 3ms/step - loss: 0.0154 - val_loss: 0.1023\n",
            "Epoch 3/10\n",
            "153/153 [==============================] - 0s 3ms/step - loss: 0.0153 - val_loss: 0.0994\n",
            "Epoch 4/10\n",
            "141/153 [==========================>...] - ETA: 0s - loss: 0.0154"
          ]
        },
        {
          "output_type": "stream",
          "name": "stderr",
          "text": [
            "\u001b[32m[I 2022-12-20 23:52:39,361]\u001b[0m Trial 19 pruned. Trial was pruned at epoch 3.\u001b[0m\n"
          ]
        },
        {
          "output_type": "stream",
          "name": "stdout",
          "text": [
            "Epoch 1/10\n",
            "153/153 [==============================] - 1s 3ms/step - loss: 0.0215 - val_loss: 0.0971\n",
            "Epoch 2/10\n",
            "153/153 [==============================] - 0s 3ms/step - loss: 0.0149 - val_loss: 0.0982\n",
            "Epoch 3/10\n",
            "153/153 [==============================] - 0s 3ms/step - loss: 0.0148 - val_loss: 0.1004\n",
            "Epoch 4/10\n",
            "131/153 [========================>.....] - ETA: 0s - loss: 0.0149"
          ]
        },
        {
          "output_type": "stream",
          "name": "stderr",
          "text": [
            "\u001b[32m[I 2022-12-20 23:52:41,988]\u001b[0m Trial 20 pruned. Trial was pruned at epoch 3.\u001b[0m\n"
          ]
        },
        {
          "output_type": "stream",
          "name": "stdout",
          "text": [
            "Epoch 1/10\n",
            "153/153 [==============================] - 1s 3ms/step - loss: 0.0189 - val_loss: 0.1024\n",
            "Epoch 2/10\n",
            "151/153 [============================>.] - ETA: 0s - loss: 0.0149"
          ]
        },
        {
          "output_type": "stream",
          "name": "stderr",
          "text": [
            "\u001b[32m[I 2022-12-20 23:52:43,960]\u001b[0m Trial 21 pruned. Trial was pruned at epoch 1.\u001b[0m\n"
          ]
        },
        {
          "output_type": "stream",
          "name": "stdout",
          "text": [
            "Epoch 1/10\n",
            "153/153 [==============================] - 1s 3ms/step - loss: 0.0243 - val_loss: 0.1029\n",
            "Epoch 2/10\n",
            "152/153 [============================>.] - ETA: 0s - loss: 0.0148"
          ]
        },
        {
          "output_type": "stream",
          "name": "stderr",
          "text": [
            "\u001b[32m[I 2022-12-20 23:52:45,911]\u001b[0m Trial 22 pruned. Trial was pruned at epoch 1.\u001b[0m\n"
          ]
        },
        {
          "output_type": "stream",
          "name": "stdout",
          "text": [
            "Epoch 1/10\n",
            "153/153 [==============================] - 1s 4ms/step - loss: 0.0209 - val_loss: 0.1018\n",
            "Epoch 2/10\n",
            "153/153 [==============================] - 0s 3ms/step - loss: 0.0148 - val_loss: 0.0973\n",
            "Epoch 3/10\n",
            "153/153 [==============================] - 0s 3ms/step - loss: 0.0148 - val_loss: 0.0969\n",
            "Epoch 4/10\n",
            "153/153 [==============================] - 0s 3ms/step - loss: 0.0149 - val_loss: 0.0970\n",
            "Epoch 5/10\n",
            "153/153 [==============================] - 0s 3ms/step - loss: 0.0149 - val_loss: 0.1020\n",
            "Epoch 6/10\n",
            "153/153 [==============================] - 1s 3ms/step - loss: 0.0148 - val_loss: 0.1031\n",
            "Epoch 7/10\n",
            "153/153 [==============================] - 0s 3ms/step - loss: 0.0148 - val_loss: 0.1024\n",
            "Epoch 8/10\n",
            "153/153 [==============================] - 0s 3ms/step - loss: 0.0148 - val_loss: 0.1000\n",
            "Epoch 9/10\n",
            "153/153 [==============================] - 0s 3ms/step - loss: 0.0148 - val_loss: 0.1029\n",
            "Epoch 10/10\n",
            "148/153 [============================>.] - ETA: 0s - loss: 0.0148"
          ]
        },
        {
          "output_type": "stream",
          "name": "stderr",
          "text": [
            "\u001b[32m[I 2022-12-20 23:52:52,271]\u001b[0m Trial 23 pruned. Trial was pruned at epoch 9.\u001b[0m\n"
          ]
        },
        {
          "output_type": "stream",
          "name": "stdout",
          "text": [
            "Epoch 1/10\n",
            "153/153 [==============================] - 1s 3ms/step - loss: 0.0311 - val_loss: 0.0997\n",
            "Epoch 2/10\n",
            "153/153 [==============================] - 0s 2ms/step - loss: 0.0148 - val_loss: 0.1010\n",
            "Epoch 3/10\n",
            "153/153 [==============================] - 0s 2ms/step - loss: 0.0148 - val_loss: 0.1000\n",
            "Epoch 4/10\n",
            "138/153 [==========================>...] - ETA: 0s - loss: 0.0148"
          ]
        },
        {
          "output_type": "stream",
          "name": "stderr",
          "text": [
            "\u001b[32m[I 2022-12-20 23:52:54,856]\u001b[0m Trial 24 pruned. Trial was pruned at epoch 3.\u001b[0m\n"
          ]
        },
        {
          "output_type": "stream",
          "name": "stdout",
          "text": [
            "Epoch 1/10\n",
            "153/153 [==============================] - 1s 3ms/step - loss: 0.3906 - val_loss: 0.1097\n",
            "Epoch 2/10\n",
            "147/153 [===========================>..] - ETA: 0s - loss: 0.0162"
          ]
        },
        {
          "output_type": "stream",
          "name": "stderr",
          "text": [
            "\u001b[32m[I 2022-12-20 23:52:56,631]\u001b[0m Trial 25 pruned. Trial was pruned at epoch 1.\u001b[0m\n"
          ]
        },
        {
          "output_type": "stream",
          "name": "stdout",
          "text": [
            "Epoch 1/10\n",
            "153/153 [==============================] - 1s 4ms/step - loss: 0.0255 - val_loss: 0.1028\n",
            "Epoch 2/10\n",
            "153/153 [==============================] - 0s 3ms/step - loss: 0.0148 - val_loss: 0.0982\n",
            "Epoch 3/10\n",
            "153/153 [==============================] - 0s 3ms/step - loss: 0.0147 - val_loss: 0.0996\n",
            "Epoch 4/10\n",
            "134/153 [=========================>....] - ETA: 0s - loss: 0.0149"
          ]
        },
        {
          "output_type": "stream",
          "name": "stderr",
          "text": [
            "\u001b[32m[I 2022-12-20 23:53:00,015]\u001b[0m Trial 26 pruned. Trial was pruned at epoch 3.\u001b[0m\n"
          ]
        },
        {
          "output_type": "stream",
          "name": "stdout",
          "text": [
            "Epoch 1/10\n",
            "153/153 [==============================] - 1s 4ms/step - loss: 0.3458 - val_loss: 0.1028\n",
            "Epoch 2/10\n",
            "153/153 [==============================] - 0s 3ms/step - loss: 0.0155 - val_loss: 0.0983\n",
            "Epoch 3/10\n",
            "153/153 [==============================] - 1s 3ms/step - loss: 0.0155 - val_loss: 0.1010\n",
            "Epoch 4/10\n",
            "144/153 [===========================>..] - ETA: 0s - loss: 0.0153"
          ]
        },
        {
          "output_type": "stream",
          "name": "stderr",
          "text": [
            "\u001b[32m[I 2022-12-20 23:53:03,009]\u001b[0m Trial 27 pruned. Trial was pruned at epoch 3.\u001b[0m\n"
          ]
        },
        {
          "output_type": "stream",
          "name": "stdout",
          "text": [
            "Epoch 1/10\n",
            "153/153 [==============================] - 1s 4ms/step - loss: 0.1272 - val_loss: 0.1050\n",
            "Epoch 2/10\n",
            "153/153 [==============================] - 0s 3ms/step - loss: 0.0149 - val_loss: 0.0985\n",
            "Epoch 3/10\n",
            "153/153 [==============================] - 0s 3ms/step - loss: 0.0149 - val_loss: 0.0984\n",
            "Epoch 4/10\n",
            "153/153 [==============================] - 0s 3ms/step - loss: 0.0149 - val_loss: 0.1003\n",
            "Epoch 5/10\n",
            "153/153 [==============================] - 0s 3ms/step - loss: 0.0149 - val_loss: 0.1078\n",
            "Epoch 6/10\n",
            "153/153 [==============================] - 0s 3ms/step - loss: 0.0151 - val_loss: 0.1040\n",
            "Epoch 7/10\n",
            "153/153 [==============================] - 0s 3ms/step - loss: 0.0149 - val_loss: 0.1038\n",
            "Epoch 8/10\n",
            "153/153 [==============================] - 0s 3ms/step - loss: 0.0152 - val_loss: 0.0978\n",
            "Epoch 9/10\n",
            "153/153 [==============================] - 0s 3ms/step - loss: 0.0152 - val_loss: 0.0981\n",
            "Epoch 10/10\n",
            "153/153 [==============================] - ETA: 0s - loss: 0.0149"
          ]
        },
        {
          "output_type": "stream",
          "name": "stderr",
          "text": [
            "\u001b[32m[I 2022-12-20 23:53:08,426]\u001b[0m Trial 28 pruned. Trial was pruned at epoch 9.\u001b[0m\n"
          ]
        },
        {
          "output_type": "stream",
          "name": "stdout",
          "text": [
            "Epoch 1/10\n",
            "153/153 [==============================] - 1s 4ms/step - loss: 0.0214 - val_loss: 0.0977\n",
            "Epoch 2/10\n",
            "136/153 [=========================>....] - ETA: 0s - loss: 0.0156"
          ]
        },
        {
          "output_type": "stream",
          "name": "stderr",
          "text": [
            "\u001b[32m[I 2022-12-20 23:53:10,328]\u001b[0m Trial 29 pruned. Trial was pruned at epoch 1.\u001b[0m\n"
          ]
        },
        {
          "output_type": "stream",
          "name": "stdout",
          "text": [
            "Epoch 1/10\n",
            "153/153 [==============================] - 1s 4ms/step - loss: 0.0183 - val_loss: 0.1028\n",
            "Epoch 2/10\n",
            "153/153 [==============================] - 1s 3ms/step - loss: 0.0150 - val_loss: 0.1090\n",
            "Epoch 3/10\n",
            "153/153 [==============================] - 1s 3ms/step - loss: 0.0148 - val_loss: 0.1029\n",
            "Epoch 4/10\n",
            "151/153 [============================>.] - ETA: 0s - loss: 0.0150"
          ]
        },
        {
          "output_type": "stream",
          "name": "stderr",
          "text": [
            "\u001b[32m[I 2022-12-20 23:53:13,339]\u001b[0m Trial 30 pruned. Trial was pruned at epoch 3.\u001b[0m\n"
          ]
        },
        {
          "output_type": "stream",
          "name": "stdout",
          "text": [
            "Epoch 1/10\n",
            "153/153 [==============================] - 1s 3ms/step - loss: 0.0246 - val_loss: 0.0994\n",
            "Epoch 2/10\n",
            "153/153 [==============================] - 0s 3ms/step - loss: 0.0151 - val_loss: 0.0976\n",
            "Epoch 3/10\n",
            "153/153 [==============================] - 0s 2ms/step - loss: 0.0154 - val_loss: 0.1037\n",
            "Epoch 4/10\n",
            "150/153 [============================>.] - ETA: 0s - loss: 0.0155"
          ]
        },
        {
          "output_type": "stream",
          "name": "stderr",
          "text": [
            "\u001b[32m[I 2022-12-20 23:53:16,192]\u001b[0m Trial 31 pruned. Trial was pruned at epoch 3.\u001b[0m\n"
          ]
        },
        {
          "output_type": "stream",
          "name": "stdout",
          "text": [
            "Epoch 1/10\n",
            "153/153 [==============================] - 1s 4ms/step - loss: 0.0210 - val_loss: 0.0958\n",
            "Epoch 2/10\n",
            "153/153 [==============================] - 1s 3ms/step - loss: 0.0153 - val_loss: 0.1023\n",
            "Epoch 3/10\n",
            "153/153 [==============================] - 1s 3ms/step - loss: 0.0152 - val_loss: 0.1024\n",
            "Epoch 4/10\n",
            "153/153 [==============================] - 1s 4ms/step - loss: 0.0153 - val_loss: 0.1006\n",
            "Epoch 5/10\n",
            "153/153 [==============================] - 0s 3ms/step - loss: 0.0152 - val_loss: 0.0985\n",
            "Epoch 6/10\n",
            "153/153 [==============================] - 1s 3ms/step - loss: 0.0150 - val_loss: 0.1059\n",
            "Epoch 7/10\n",
            "153/153 [==============================] - 0s 3ms/step - loss: 0.0149 - val_loss: 0.1028\n",
            "Epoch 8/10\n",
            "153/153 [==============================] - 1s 3ms/step - loss: 0.0148 - val_loss: 0.0998\n",
            "Epoch 9/10\n",
            "153/153 [==============================] - 1s 3ms/step - loss: 0.0148 - val_loss: 0.1031\n",
            "Epoch 10/10\n",
            "149/153 [============================>.] - ETA: 0s - loss: 0.0147"
          ]
        },
        {
          "output_type": "stream",
          "name": "stderr",
          "text": [
            "\u001b[32m[I 2022-12-20 23:53:23,460]\u001b[0m Trial 32 pruned. Trial was pruned at epoch 9.\u001b[0m\n"
          ]
        },
        {
          "output_type": "stream",
          "name": "stdout",
          "text": [
            "Epoch 1/10\n",
            "153/153 [==============================] - 1s 4ms/step - loss: 0.0233 - val_loss: 0.0979\n",
            "Epoch 2/10\n",
            "153/153 [==============================] - 1s 4ms/step - loss: 0.0149 - val_loss: 0.0974\n",
            "Epoch 3/10\n",
            "153/153 [==============================] - 0s 3ms/step - loss: 0.0148 - val_loss: 0.1009\n",
            "Epoch 4/10\n",
            "153/153 [==============================] - 1s 4ms/step - loss: 0.0148 - val_loss: 0.0977\n",
            "Epoch 5/10\n",
            "153/153 [==============================] - 0s 3ms/step - loss: 0.0148 - val_loss: 0.1040\n",
            "Epoch 6/10\n",
            "153/153 [==============================] - 0s 3ms/step - loss: 0.0149 - val_loss: 0.0998\n",
            "Epoch 7/10\n",
            "153/153 [==============================] - 1s 3ms/step - loss: 0.0148 - val_loss: 0.1015\n",
            "Epoch 8/10\n",
            "153/153 [==============================] - 0s 3ms/step - loss: 0.0148 - val_loss: 0.0998\n",
            "Epoch 9/10\n",
            "153/153 [==============================] - 0s 3ms/step - loss: 0.0149 - val_loss: 0.1048\n",
            "Epoch 10/10\n",
            "145/153 [===========================>..] - ETA: 0s - loss: 0.0149"
          ]
        },
        {
          "output_type": "stream",
          "name": "stderr",
          "text": [
            "\u001b[32m[I 2022-12-20 23:53:34,569]\u001b[0m Trial 33 pruned. Trial was pruned at epoch 9.\u001b[0m\n"
          ]
        },
        {
          "output_type": "stream",
          "name": "stdout",
          "text": [
            "Epoch 1/10\n",
            "153/153 [==============================] - 1s 3ms/step - loss: 0.0259 - val_loss: 0.1007\n",
            "Epoch 2/10\n",
            "153/153 [==============================] - 0s 3ms/step - loss: 0.0151 - val_loss: 0.1024\n",
            "Epoch 3/10\n",
            "153/153 [==============================] - 0s 3ms/step - loss: 0.0150 - val_loss: 0.1013\n",
            "Epoch 4/10\n",
            "153/153 [==============================] - 0s 2ms/step - loss: 0.0149 - val_loss: 0.0997\n",
            "Epoch 5/10\n",
            "153/153 [==============================] - 0s 2ms/step - loss: 0.0150 - val_loss: 0.0993\n",
            "Epoch 6/10\n",
            "153/153 [==============================] - 0s 3ms/step - loss: 0.0149 - val_loss: 0.0994\n",
            "Epoch 7/10\n",
            "153/153 [==============================] - 0s 3ms/step - loss: 0.0150 - val_loss: 0.1015\n",
            "Epoch 8/10\n",
            "153/153 [==============================] - 0s 2ms/step - loss: 0.0151 - val_loss: 0.0996\n",
            "Epoch 9/10\n",
            "153/153 [==============================] - 0s 2ms/step - loss: 0.0150 - val_loss: 0.0988\n",
            "Epoch 10/10\n",
            "131/153 [========================>.....] - ETA: 0s - loss: 0.0150"
          ]
        },
        {
          "output_type": "stream",
          "name": "stderr",
          "text": [
            "\u001b[32m[I 2022-12-20 23:53:44,151]\u001b[0m Trial 34 pruned. Trial was pruned at epoch 9.\u001b[0m\n"
          ]
        },
        {
          "output_type": "stream",
          "name": "stdout",
          "text": [
            "Epoch 1/10\n",
            "153/153 [==============================] - 1s 4ms/step - loss: 0.0208 - val_loss: 0.1010\n",
            "Epoch 2/10\n",
            "153/153 [==============================] - ETA: 0s - loss: 0.0149"
          ]
        },
        {
          "output_type": "stream",
          "name": "stderr",
          "text": [
            "\u001b[32m[I 2022-12-20 23:53:47,972]\u001b[0m Trial 35 pruned. Trial was pruned at epoch 1.\u001b[0m\n"
          ]
        },
        {
          "output_type": "stream",
          "name": "stdout",
          "text": [
            "Epoch 1/10\n",
            "153/153 [==============================] - 1s 4ms/step - loss: 0.0182 - val_loss: 0.0994\n",
            "Epoch 2/10\n",
            "142/153 [==========================>...] - ETA: 0s - loss: 0.0151"
          ]
        },
        {
          "output_type": "stream",
          "name": "stderr",
          "text": [
            "\u001b[32m[I 2022-12-20 23:53:50,468]\u001b[0m Trial 36 pruned. Trial was pruned at epoch 1.\u001b[0m\n"
          ]
        },
        {
          "output_type": "stream",
          "name": "stdout",
          "text": [
            "Epoch 1/10\n",
            "153/153 [==============================] - 1s 3ms/step - loss: 0.0226 - val_loss: 0.0993\n",
            "Epoch 2/10\n",
            "132/153 [========================>.....] - ETA: 0s - loss: 0.0148"
          ]
        },
        {
          "output_type": "stream",
          "name": "stderr",
          "text": [
            "\u001b[32m[I 2022-12-20 23:53:52,651]\u001b[0m Trial 37 pruned. Trial was pruned at epoch 1.\u001b[0m\n"
          ]
        },
        {
          "output_type": "stream",
          "name": "stdout",
          "text": [
            "Epoch 1/10\n",
            "153/153 [==============================] - 1s 4ms/step - loss: 0.0179 - val_loss: 0.1016\n",
            "Epoch 2/10\n",
            "153/153 [==============================] - 1s 4ms/step - loss: 0.0149 - val_loss: 0.0956\n",
            "Epoch 3/10\n",
            "153/153 [==============================] - 1s 4ms/step - loss: 0.0151 - val_loss: 0.0971\n",
            "Epoch 4/10\n",
            "144/153 [===========================>..] - ETA: 0s - loss: 0.0150"
          ]
        },
        {
          "output_type": "stream",
          "name": "stderr",
          "text": [
            "\u001b[32m[I 2022-12-20 23:53:55,958]\u001b[0m Trial 38 pruned. Trial was pruned at epoch 3.\u001b[0m\n"
          ]
        },
        {
          "output_type": "stream",
          "name": "stdout",
          "text": [
            "Epoch 1/10\n",
            "153/153 [==============================] - 1s 5ms/step - loss: 0.0626 - val_loss: 0.1010\n",
            "Epoch 2/10\n",
            "142/153 [==========================>...] - ETA: 0s - loss: 0.0152"
          ]
        },
        {
          "output_type": "stream",
          "name": "stderr",
          "text": [
            "\u001b[32m[I 2022-12-20 23:53:58,470]\u001b[0m Trial 39 pruned. Trial was pruned at epoch 1.\u001b[0m\n"
          ]
        },
        {
          "output_type": "stream",
          "name": "stdout",
          "text": [
            "Epoch 1/10\n",
            "153/153 [==============================] - 1s 4ms/step - loss: 0.3254 - val_loss: 0.1066\n",
            "Epoch 2/10\n",
            "150/153 [============================>.] - ETA: 0s - loss: 0.0151"
          ]
        },
        {
          "output_type": "stream",
          "name": "stderr",
          "text": [
            "\u001b[32m[I 2022-12-20 23:54:02,049]\u001b[0m Trial 40 pruned. Trial was pruned at epoch 1.\u001b[0m\n"
          ]
        },
        {
          "output_type": "stream",
          "name": "stdout",
          "text": [
            "Epoch 1/10\n",
            "153/153 [==============================] - 1s 3ms/step - loss: 0.0195 - val_loss: 0.1013\n",
            "Epoch 2/10\n",
            "137/153 [=========================>....] - ETA: 0s - loss: 0.0147"
          ]
        },
        {
          "output_type": "stream",
          "name": "stderr",
          "text": [
            "\u001b[32m[I 2022-12-20 23:54:04,000]\u001b[0m Trial 41 pruned. Trial was pruned at epoch 1.\u001b[0m\n"
          ]
        },
        {
          "output_type": "stream",
          "name": "stdout",
          "text": [
            "Epoch 1/10\n",
            "153/153 [==============================] - 1s 4ms/step - loss: 0.0723 - val_loss: 0.1001\n",
            "Epoch 2/10\n",
            "153/153 [==============================] - 1s 6ms/step - loss: 0.0149 - val_loss: 0.1050\n",
            "Epoch 3/10\n",
            "153/153 [==============================] - 1s 7ms/step - loss: 0.0150 - val_loss: 0.1031\n",
            "Epoch 4/10\n",
            "153/153 [==============================] - 1s 7ms/step - loss: 0.0150 - val_loss: 0.1010\n",
            "Epoch 5/10\n",
            "153/153 [==============================] - 1s 6ms/step - loss: 0.0149 - val_loss: 0.1018\n",
            "Epoch 6/10\n",
            "153/153 [==============================] - 1s 6ms/step - loss: 0.0149 - val_loss: 0.1013\n",
            "Epoch 7/10\n",
            "153/153 [==============================] - 1s 3ms/step - loss: 0.0150 - val_loss: 0.1024\n",
            "Epoch 8/10\n",
            "153/153 [==============================] - 1s 4ms/step - loss: 0.0150 - val_loss: 0.0985\n",
            "Epoch 9/10\n",
            "153/153 [==============================] - 1s 4ms/step - loss: 0.0149 - val_loss: 0.0997\n",
            "Epoch 10/10\n",
            "135/153 [=========================>....] - ETA: 0s - loss: 0.0151"
          ]
        },
        {
          "output_type": "stream",
          "name": "stderr",
          "text": [
            "\u001b[32m[I 2022-12-20 23:54:12,837]\u001b[0m Trial 42 pruned. Trial was pruned at epoch 9.\u001b[0m\n"
          ]
        },
        {
          "output_type": "stream",
          "name": "stdout",
          "text": [
            "Epoch 1/10\n",
            "153/153 [==============================] - 1s 3ms/step - loss: 0.0209 - val_loss: 0.1009\n",
            "Epoch 2/10\n",
            "153/153 [==============================] - 0s 3ms/step - loss: 0.0152 - val_loss: 0.1003\n",
            "Epoch 3/10\n",
            "153/153 [==============================] - 0s 3ms/step - loss: 0.0151 - val_loss: 0.0953\n",
            "Epoch 4/10\n",
            "153/153 [==============================] - 0s 3ms/step - loss: 0.0150 - val_loss: 0.1020\n",
            "Epoch 5/10\n",
            "153/153 [==============================] - 0s 3ms/step - loss: 0.0149 - val_loss: 0.1086\n",
            "Epoch 6/10\n",
            "153/153 [==============================] - 0s 3ms/step - loss: 0.0149 - val_loss: 0.1022\n",
            "Epoch 7/10\n",
            "153/153 [==============================] - 0s 3ms/step - loss: 0.0149 - val_loss: 0.1025\n",
            "Epoch 8/10\n",
            "153/153 [==============================] - 0s 3ms/step - loss: 0.0149 - val_loss: 0.1007\n",
            "Epoch 9/10\n",
            "153/153 [==============================] - 0s 3ms/step - loss: 0.0149 - val_loss: 0.1003\n",
            "Epoch 10/10\n",
            "141/153 [==========================>...] - ETA: 0s - loss: 0.0148"
          ]
        },
        {
          "output_type": "stream",
          "name": "stderr",
          "text": [
            "\u001b[32m[I 2022-12-20 23:54:20,977]\u001b[0m Trial 43 pruned. Trial was pruned at epoch 9.\u001b[0m\n"
          ]
        },
        {
          "output_type": "stream",
          "name": "stdout",
          "text": [
            "Epoch 1/10\n",
            "153/153 [==============================] - 1s 4ms/step - loss: 0.0220 - val_loss: 0.0981\n",
            "Epoch 2/10\n",
            "153/153 [==============================] - 1s 3ms/step - loss: 0.0149 - val_loss: 0.1007\n",
            "Epoch 3/10\n",
            "153/153 [==============================] - 0s 3ms/step - loss: 0.0148 - val_loss: 0.0990\n",
            "Epoch 4/10\n",
            "153/153 [==============================] - 0s 3ms/step - loss: 0.0147 - val_loss: 0.0985\n",
            "Epoch 5/10\n",
            "153/153 [==============================] - 0s 3ms/step - loss: 0.0149 - val_loss: 0.1038\n",
            "Epoch 6/10\n",
            "153/153 [==============================] - 0s 3ms/step - loss: 0.0148 - val_loss: 0.1004\n",
            "Epoch 7/10\n",
            "153/153 [==============================] - 0s 3ms/step - loss: 0.0148 - val_loss: 0.0967\n",
            "Epoch 8/10\n",
            "153/153 [==============================] - 0s 3ms/step - loss: 0.0147 - val_loss: 0.1013\n",
            "Epoch 9/10\n",
            "153/153 [==============================] - 0s 3ms/step - loss: 0.0148 - val_loss: 0.1000\n",
            "Epoch 10/10\n",
            "149/153 [============================>.] - ETA: 0s - loss: 0.0148"
          ]
        },
        {
          "output_type": "stream",
          "name": "stderr",
          "text": [
            "\u001b[32m[I 2022-12-20 23:54:27,437]\u001b[0m Trial 44 pruned. Trial was pruned at epoch 9.\u001b[0m\n"
          ]
        },
        {
          "output_type": "stream",
          "name": "stdout",
          "text": [
            "Epoch 1/10\n",
            "153/153 [==============================] - 1s 4ms/step - loss: 0.0231 - val_loss: 0.1023\n",
            "Epoch 2/10\n",
            "153/153 [==============================] - 0s 3ms/step - loss: 0.0149 - val_loss: 0.0983\n",
            "Epoch 3/10\n",
            "153/153 [==============================] - 0s 3ms/step - loss: 0.0148 - val_loss: 0.1019\n",
            "Epoch 4/10\n",
            "140/153 [==========================>...] - ETA: 0s - loss: 0.0150"
          ]
        },
        {
          "output_type": "stream",
          "name": "stderr",
          "text": [
            "\u001b[32m[I 2022-12-20 23:54:30,515]\u001b[0m Trial 45 pruned. Trial was pruned at epoch 3.\u001b[0m\n"
          ]
        },
        {
          "output_type": "stream",
          "name": "stdout",
          "text": [
            "Epoch 1/10\n",
            "153/153 [==============================] - 1s 4ms/step - loss: 0.0255 - val_loss: 0.1021\n",
            "Epoch 2/10\n",
            "153/153 [==============================] - 1s 3ms/step - loss: 0.0147 - val_loss: 0.1003\n",
            "Epoch 3/10\n",
            "153/153 [==============================] - 1s 4ms/step - loss: 0.0147 - val_loss: 0.0973\n",
            "Epoch 4/10\n",
            "153/153 [==============================] - 1s 4ms/step - loss: 0.0148 - val_loss: 0.1020\n",
            "Epoch 5/10\n",
            "153/153 [==============================] - 1s 3ms/step - loss: 0.0147 - val_loss: 0.0994\n",
            "Epoch 6/10\n",
            "153/153 [==============================] - 1s 3ms/step - loss: 0.0147 - val_loss: 0.1023\n",
            "Epoch 7/10\n",
            "153/153 [==============================] - 1s 4ms/step - loss: 0.0147 - val_loss: 0.1002\n",
            "Epoch 8/10\n",
            "153/153 [==============================] - 1s 4ms/step - loss: 0.0147 - val_loss: 0.0955\n",
            "Epoch 9/10\n",
            "153/153 [==============================] - 1s 4ms/step - loss: 0.0149 - val_loss: 0.0993\n",
            "Epoch 10/10\n",
            "136/153 [=========================>....] - ETA: 0s - loss: 0.0147"
          ]
        },
        {
          "output_type": "stream",
          "name": "stderr",
          "text": [
            "\u001b[32m[I 2022-12-20 23:54:37,661]\u001b[0m Trial 46 pruned. Trial was pruned at epoch 9.\u001b[0m\n"
          ]
        },
        {
          "output_type": "stream",
          "name": "stdout",
          "text": [
            "Epoch 1/10\n",
            "153/153 [==============================] - 1s 4ms/step - loss: 0.0186 - val_loss: 0.0953\n",
            "Epoch 2/10\n",
            "153/153 [==============================] - ETA: 0s - loss: 0.0158"
          ]
        },
        {
          "output_type": "stream",
          "name": "stderr",
          "text": [
            "\u001b[32m[I 2022-12-20 23:54:44,343]\u001b[0m Trial 47 pruned. Trial was pruned at epoch 1.\u001b[0m\n"
          ]
        },
        {
          "output_type": "stream",
          "name": "stdout",
          "text": [
            "Epoch 1/10\n",
            "153/153 [==============================] - 1s 4ms/step - loss: 0.0765 - val_loss: 0.0930\n",
            "Epoch 2/10\n",
            "135/153 [=========================>....] - ETA: 0s - loss: 0.0152"
          ]
        },
        {
          "output_type": "stream",
          "name": "stderr",
          "text": [
            "\u001b[32m[I 2022-12-20 23:54:46,409]\u001b[0m Trial 48 pruned. Trial was pruned at epoch 1.\u001b[0m\n"
          ]
        },
        {
          "output_type": "stream",
          "name": "stdout",
          "text": [
            "Epoch 1/10\n",
            "153/153 [==============================] - 1s 3ms/step - loss: 0.0221 - val_loss: 0.0996\n",
            "Epoch 2/10\n",
            "153/153 [==============================] - 0s 3ms/step - loss: 0.0148 - val_loss: 0.0986\n",
            "Epoch 3/10\n",
            "153/153 [==============================] - 0s 3ms/step - loss: 0.0149 - val_loss: 0.0955\n",
            "Epoch 4/10\n",
            "153/153 [==============================] - 0s 3ms/step - loss: 0.0148 - val_loss: 0.0989\n",
            "Epoch 5/10\n",
            "153/153 [==============================] - 0s 3ms/step - loss: 0.0148 - val_loss: 0.0976\n",
            "Epoch 6/10\n",
            "153/153 [==============================] - 0s 3ms/step - loss: 0.0149 - val_loss: 0.1033\n",
            "Epoch 7/10\n",
            "153/153 [==============================] - 0s 3ms/step - loss: 0.0149 - val_loss: 0.0967\n",
            "Epoch 8/10\n",
            "153/153 [==============================] - 0s 3ms/step - loss: 0.0148 - val_loss: 0.0987\n",
            "Epoch 9/10\n",
            "153/153 [==============================] - 0s 3ms/step - loss: 0.0148 - val_loss: 0.1005\n",
            "Epoch 10/10\n",
            "133/153 [=========================>....] - ETA: 0s - loss: 0.0150"
          ]
        },
        {
          "output_type": "stream",
          "name": "stderr",
          "text": [
            "\u001b[32m[I 2022-12-20 23:54:51,651]\u001b[0m Trial 49 pruned. Trial was pruned at epoch 9.\u001b[0m\n"
          ]
        },
        {
          "output_type": "display_data",
          "data": {
            "text/html": [
              "<html>\n",
              "<head><meta charset=\"utf-8\" /></head>\n",
              "<body>\n",
              "    <div>            <script src=\"https://cdnjs.cloudflare.com/ajax/libs/mathjax/2.7.5/MathJax.js?config=TeX-AMS-MML_SVG\"></script><script type=\"text/javascript\">if (window.MathJax) {MathJax.Hub.Config({SVG: {font: \"STIX-Web\"}});}</script>                <script type=\"text/javascript\">window.PlotlyConfig = {MathJaxConfig: 'local'};</script>\n",
              "        <script src=\"https://cdn.plot.ly/plotly-2.8.3.min.js\"></script>                <div id=\"746f8a8a-6565-4ea6-97d6-1aa8e4e31897\" class=\"plotly-graph-div\" style=\"height:525px; width:100%;\"></div>            <script type=\"text/javascript\">                                    window.PLOTLYENV=window.PLOTLYENV || {};                                    if (document.getElementById(\"746f8a8a-6565-4ea6-97d6-1aa8e4e31897\")) {                    Plotly.newPlot(                        \"746f8a8a-6565-4ea6-97d6-1aa8e4e31897\",                        [{\"mode\":\"markers\",\"name\":\"Objective Value\",\"x\":[0,1,4,5],\"y\":[0.09734662517280275,0.08861970962115406,0.08317347767888657,0.0830363802092977],\"type\":\"scatter\"},{\"name\":\"Best Value\",\"x\":[0,1,4,5],\"y\":[0.09734662517280275,0.08861970962115406,0.08317347767888657,0.0830363802092977],\"type\":\"scatter\"}],                        {\"title\":{\"text\":\"Optimization History Plot\"},\"xaxis\":{\"title\":{\"text\":\"Trial\"}},\"yaxis\":{\"title\":{\"text\":\"Objective Value\"}},\"template\":{\"data\":{\"bar\":[{\"error_x\":{\"color\":\"#2a3f5f\"},\"error_y\":{\"color\":\"#2a3f5f\"},\"marker\":{\"line\":{\"color\":\"#E5ECF6\",\"width\":0.5},\"pattern\":{\"fillmode\":\"overlay\",\"size\":10,\"solidity\":0.2}},\"type\":\"bar\"}],\"barpolar\":[{\"marker\":{\"line\":{\"color\":\"#E5ECF6\",\"width\":0.5},\"pattern\":{\"fillmode\":\"overlay\",\"size\":10,\"solidity\":0.2}},\"type\":\"barpolar\"}],\"carpet\":[{\"aaxis\":{\"endlinecolor\":\"#2a3f5f\",\"gridcolor\":\"white\",\"linecolor\":\"white\",\"minorgridcolor\":\"white\",\"startlinecolor\":\"#2a3f5f\"},\"baxis\":{\"endlinecolor\":\"#2a3f5f\",\"gridcolor\":\"white\",\"linecolor\":\"white\",\"minorgridcolor\":\"white\",\"startlinecolor\":\"#2a3f5f\"},\"type\":\"carpet\"}],\"choropleth\":[{\"colorbar\":{\"outlinewidth\":0,\"ticks\":\"\"},\"type\":\"choropleth\"}],\"contour\":[{\"colorbar\":{\"outlinewidth\":0,\"ticks\":\"\"},\"colorscale\":[[0.0,\"#0d0887\"],[0.1111111111111111,\"#46039f\"],[0.2222222222222222,\"#7201a8\"],[0.3333333333333333,\"#9c179e\"],[0.4444444444444444,\"#bd3786\"],[0.5555555555555556,\"#d8576b\"],[0.6666666666666666,\"#ed7953\"],[0.7777777777777778,\"#fb9f3a\"],[0.8888888888888888,\"#fdca26\"],[1.0,\"#f0f921\"]],\"type\":\"contour\"}],\"contourcarpet\":[{\"colorbar\":{\"outlinewidth\":0,\"ticks\":\"\"},\"type\":\"contourcarpet\"}],\"heatmap\":[{\"colorbar\":{\"outlinewidth\":0,\"ticks\":\"\"},\"colorscale\":[[0.0,\"#0d0887\"],[0.1111111111111111,\"#46039f\"],[0.2222222222222222,\"#7201a8\"],[0.3333333333333333,\"#9c179e\"],[0.4444444444444444,\"#bd3786\"],[0.5555555555555556,\"#d8576b\"],[0.6666666666666666,\"#ed7953\"],[0.7777777777777778,\"#fb9f3a\"],[0.8888888888888888,\"#fdca26\"],[1.0,\"#f0f921\"]],\"type\":\"heatmap\"}],\"heatmapgl\":[{\"colorbar\":{\"outlinewidth\":0,\"ticks\":\"\"},\"colorscale\":[[0.0,\"#0d0887\"],[0.1111111111111111,\"#46039f\"],[0.2222222222222222,\"#7201a8\"],[0.3333333333333333,\"#9c179e\"],[0.4444444444444444,\"#bd3786\"],[0.5555555555555556,\"#d8576b\"],[0.6666666666666666,\"#ed7953\"],[0.7777777777777778,\"#fb9f3a\"],[0.8888888888888888,\"#fdca26\"],[1.0,\"#f0f921\"]],\"type\":\"heatmapgl\"}],\"histogram\":[{\"marker\":{\"pattern\":{\"fillmode\":\"overlay\",\"size\":10,\"solidity\":0.2}},\"type\":\"histogram\"}],\"histogram2d\":[{\"colorbar\":{\"outlinewidth\":0,\"ticks\":\"\"},\"colorscale\":[[0.0,\"#0d0887\"],[0.1111111111111111,\"#46039f\"],[0.2222222222222222,\"#7201a8\"],[0.3333333333333333,\"#9c179e\"],[0.4444444444444444,\"#bd3786\"],[0.5555555555555556,\"#d8576b\"],[0.6666666666666666,\"#ed7953\"],[0.7777777777777778,\"#fb9f3a\"],[0.8888888888888888,\"#fdca26\"],[1.0,\"#f0f921\"]],\"type\":\"histogram2d\"}],\"histogram2dcontour\":[{\"colorbar\":{\"outlinewidth\":0,\"ticks\":\"\"},\"colorscale\":[[0.0,\"#0d0887\"],[0.1111111111111111,\"#46039f\"],[0.2222222222222222,\"#7201a8\"],[0.3333333333333333,\"#9c179e\"],[0.4444444444444444,\"#bd3786\"],[0.5555555555555556,\"#d8576b\"],[0.6666666666666666,\"#ed7953\"],[0.7777777777777778,\"#fb9f3a\"],[0.8888888888888888,\"#fdca26\"],[1.0,\"#f0f921\"]],\"type\":\"histogram2dcontour\"}],\"mesh3d\":[{\"colorbar\":{\"outlinewidth\":0,\"ticks\":\"\"},\"type\":\"mesh3d\"}],\"parcoords\":[{\"line\":{\"colorbar\":{\"outlinewidth\":0,\"ticks\":\"\"}},\"type\":\"parcoords\"}],\"pie\":[{\"automargin\":true,\"type\":\"pie\"}],\"scatter\":[{\"marker\":{\"colorbar\":{\"outlinewidth\":0,\"ticks\":\"\"}},\"type\":\"scatter\"}],\"scatter3d\":[{\"line\":{\"colorbar\":{\"outlinewidth\":0,\"ticks\":\"\"}},\"marker\":{\"colorbar\":{\"outlinewidth\":0,\"ticks\":\"\"}},\"type\":\"scatter3d\"}],\"scattercarpet\":[{\"marker\":{\"colorbar\":{\"outlinewidth\":0,\"ticks\":\"\"}},\"type\":\"scattercarpet\"}],\"scattergeo\":[{\"marker\":{\"colorbar\":{\"outlinewidth\":0,\"ticks\":\"\"}},\"type\":\"scattergeo\"}],\"scattergl\":[{\"marker\":{\"colorbar\":{\"outlinewidth\":0,\"ticks\":\"\"}},\"type\":\"scattergl\"}],\"scattermapbox\":[{\"marker\":{\"colorbar\":{\"outlinewidth\":0,\"ticks\":\"\"}},\"type\":\"scattermapbox\"}],\"scatterpolar\":[{\"marker\":{\"colorbar\":{\"outlinewidth\":0,\"ticks\":\"\"}},\"type\":\"scatterpolar\"}],\"scatterpolargl\":[{\"marker\":{\"colorbar\":{\"outlinewidth\":0,\"ticks\":\"\"}},\"type\":\"scatterpolargl\"}],\"scatterternary\":[{\"marker\":{\"colorbar\":{\"outlinewidth\":0,\"ticks\":\"\"}},\"type\":\"scatterternary\"}],\"surface\":[{\"colorbar\":{\"outlinewidth\":0,\"ticks\":\"\"},\"colorscale\":[[0.0,\"#0d0887\"],[0.1111111111111111,\"#46039f\"],[0.2222222222222222,\"#7201a8\"],[0.3333333333333333,\"#9c179e\"],[0.4444444444444444,\"#bd3786\"],[0.5555555555555556,\"#d8576b\"],[0.6666666666666666,\"#ed7953\"],[0.7777777777777778,\"#fb9f3a\"],[0.8888888888888888,\"#fdca26\"],[1.0,\"#f0f921\"]],\"type\":\"surface\"}],\"table\":[{\"cells\":{\"fill\":{\"color\":\"#EBF0F8\"},\"line\":{\"color\":\"white\"}},\"header\":{\"fill\":{\"color\":\"#C8D4E3\"},\"line\":{\"color\":\"white\"}},\"type\":\"table\"}]},\"layout\":{\"annotationdefaults\":{\"arrowcolor\":\"#2a3f5f\",\"arrowhead\":0,\"arrowwidth\":1},\"autotypenumbers\":\"strict\",\"coloraxis\":{\"colorbar\":{\"outlinewidth\":0,\"ticks\":\"\"}},\"colorscale\":{\"diverging\":[[0,\"#8e0152\"],[0.1,\"#c51b7d\"],[0.2,\"#de77ae\"],[0.3,\"#f1b6da\"],[0.4,\"#fde0ef\"],[0.5,\"#f7f7f7\"],[0.6,\"#e6f5d0\"],[0.7,\"#b8e186\"],[0.8,\"#7fbc41\"],[0.9,\"#4d9221\"],[1,\"#276419\"]],\"sequential\":[[0.0,\"#0d0887\"],[0.1111111111111111,\"#46039f\"],[0.2222222222222222,\"#7201a8\"],[0.3333333333333333,\"#9c179e\"],[0.4444444444444444,\"#bd3786\"],[0.5555555555555556,\"#d8576b\"],[0.6666666666666666,\"#ed7953\"],[0.7777777777777778,\"#fb9f3a\"],[0.8888888888888888,\"#fdca26\"],[1.0,\"#f0f921\"]],\"sequentialminus\":[[0.0,\"#0d0887\"],[0.1111111111111111,\"#46039f\"],[0.2222222222222222,\"#7201a8\"],[0.3333333333333333,\"#9c179e\"],[0.4444444444444444,\"#bd3786\"],[0.5555555555555556,\"#d8576b\"],[0.6666666666666666,\"#ed7953\"],[0.7777777777777778,\"#fb9f3a\"],[0.8888888888888888,\"#fdca26\"],[1.0,\"#f0f921\"]]},\"colorway\":[\"#636efa\",\"#EF553B\",\"#00cc96\",\"#ab63fa\",\"#FFA15A\",\"#19d3f3\",\"#FF6692\",\"#B6E880\",\"#FF97FF\",\"#FECB52\"],\"font\":{\"color\":\"#2a3f5f\"},\"geo\":{\"bgcolor\":\"white\",\"lakecolor\":\"white\",\"landcolor\":\"#E5ECF6\",\"showlakes\":true,\"showland\":true,\"subunitcolor\":\"white\"},\"hoverlabel\":{\"align\":\"left\"},\"hovermode\":\"closest\",\"mapbox\":{\"style\":\"light\"},\"paper_bgcolor\":\"white\",\"plot_bgcolor\":\"#E5ECF6\",\"polar\":{\"angularaxis\":{\"gridcolor\":\"white\",\"linecolor\":\"white\",\"ticks\":\"\"},\"bgcolor\":\"#E5ECF6\",\"radialaxis\":{\"gridcolor\":\"white\",\"linecolor\":\"white\",\"ticks\":\"\"}},\"scene\":{\"xaxis\":{\"backgroundcolor\":\"#E5ECF6\",\"gridcolor\":\"white\",\"gridwidth\":2,\"linecolor\":\"white\",\"showbackground\":true,\"ticks\":\"\",\"zerolinecolor\":\"white\"},\"yaxis\":{\"backgroundcolor\":\"#E5ECF6\",\"gridcolor\":\"white\",\"gridwidth\":2,\"linecolor\":\"white\",\"showbackground\":true,\"ticks\":\"\",\"zerolinecolor\":\"white\"},\"zaxis\":{\"backgroundcolor\":\"#E5ECF6\",\"gridcolor\":\"white\",\"gridwidth\":2,\"linecolor\":\"white\",\"showbackground\":true,\"ticks\":\"\",\"zerolinecolor\":\"white\"}},\"shapedefaults\":{\"line\":{\"color\":\"#2a3f5f\"}},\"ternary\":{\"aaxis\":{\"gridcolor\":\"white\",\"linecolor\":\"white\",\"ticks\":\"\"},\"baxis\":{\"gridcolor\":\"white\",\"linecolor\":\"white\",\"ticks\":\"\"},\"bgcolor\":\"#E5ECF6\",\"caxis\":{\"gridcolor\":\"white\",\"linecolor\":\"white\",\"ticks\":\"\"}},\"title\":{\"x\":0.05},\"xaxis\":{\"automargin\":true,\"gridcolor\":\"white\",\"linecolor\":\"white\",\"ticks\":\"\",\"title\":{\"standoff\":15},\"zerolinecolor\":\"white\",\"zerolinewidth\":2},\"yaxis\":{\"automargin\":true,\"gridcolor\":\"white\",\"linecolor\":\"white\",\"ticks\":\"\",\"title\":{\"standoff\":15},\"zerolinecolor\":\"white\",\"zerolinewidth\":2}}}},                        {\"responsive\": true}                    ).then(function(){\n",
              "                            \n",
              "var gd = document.getElementById('746f8a8a-6565-4ea6-97d6-1aa8e4e31897');\n",
              "var x = new MutationObserver(function (mutations, observer) {{\n",
              "        var display = window.getComputedStyle(gd).display;\n",
              "        if (!display || display === 'none') {{\n",
              "            console.log([gd, 'removed!']);\n",
              "            Plotly.purge(gd);\n",
              "            observer.disconnect();\n",
              "        }}\n",
              "}});\n",
              "\n",
              "// Listen for the removal of the full notebook cells\n",
              "var notebookContainer = gd.closest('#notebook-container');\n",
              "if (notebookContainer) {{\n",
              "    x.observe(notebookContainer, {childList: true});\n",
              "}}\n",
              "\n",
              "// Listen for the clearing of the current output cell\n",
              "var outputEl = gd.closest('.output');\n",
              "if (outputEl) {{\n",
              "    x.observe(outputEl, {childList: true});\n",
              "}}\n",
              "\n",
              "                        })                };                            </script>        </div>\n",
              "</body>\n",
              "</html>"
            ]
          },
          "metadata": {}
        }
      ]
    },
    {
      "cell_type": "code",
      "source": [
        "print(\"Study statistics: \")\n",
        "print(\"  Number of finished trials: \", len(study.trials))\n",
        "print(\"  Number of pruned trials: \", len(pruned_trials))\n",
        "print(\"  Number of complete trials: \", len(complete_trials))\n",
        "\n",
        "print(\"Best trial:\")\n",
        "trial = study.best_trial\n",
        "\n",
        "print(\"  Value: \", trial.value)\n",
        "\n",
        "print(\"  Params: \")\n",
        "for key, value in trial.params.items():\n",
        "    print(\"    {}: {}\".format(key, value))"
      ],
      "metadata": {
        "id": "4TgG9D8S5FNx",
        "colab": {
          "base_uri": "https://localhost:8080/"
        },
        "outputId": "fec58ae6-0f52-49af-c2c1-aec18b27c45c"
      },
      "execution_count": null,
      "outputs": [
        {
          "output_type": "stream",
          "name": "stdout",
          "text": [
            "Study statistics: \n",
            "  Number of finished trials:  50\n",
            "  Number of pruned trials:  46\n",
            "  Number of complete trials:  4\n",
            "Best trial:\n",
            "  Value:  0.0830363802092977\n",
            "  Params: \n",
            "    n_layers: 3\n",
            "    activation_l0: relu\n",
            "    n_units_l0: 45\n",
            "    activation_l1: tanh\n",
            "    n_units_l1: 36\n"
          ]
        }
      ]
    },
    {
      "cell_type": "code",
      "source": [
        "best_model = create_model(study.best_trial)\n",
        "best_model.summary()\n",
        "best_model.fit(\n",
        "        X_train,\n",
        "        y_train,\n",
        "        epochs=10,\n",
        "        validation_data=val_dataset\n",
        "    )"
      ],
      "metadata": {
        "id": "cJKit7HN8Zb6",
        "colab": {
          "base_uri": "https://localhost:8080/"
        },
        "outputId": "2f68cab4-e6b3-407d-91e5-a2b002524f76"
      },
      "execution_count": null,
      "outputs": [
        {
          "output_type": "stream",
          "name": "stdout",
          "text": [
            "Model: \"sequential_1\"\n",
            "_________________________________________________________________\n",
            " Layer (type)                Output Shape              Param #   \n",
            "=================================================================\n",
            " normalization_1 (Normalizat  (None, 3)                7         \n",
            " ion)                                                            \n",
            "                                                                 \n",
            " dense_4 (Dense)             (None, 45)                180       \n",
            "                                                                 \n",
            " dense_5 (Dense)             (None, 36)                1656      \n",
            "                                                                 \n",
            " dense_6 (Dense)             (None, 1)                 37        \n",
            "                                                                 \n",
            "=================================================================\n",
            "Total params: 1,880\n",
            "Trainable params: 1,873\n",
            "Non-trainable params: 7\n",
            "_________________________________________________________________\n",
            "Epoch 1/10\n",
            "153/153 [==============================] - 1s 4ms/step - loss: 0.0196 - val_loss: 0.0968\n",
            "Epoch 2/10\n",
            "153/153 [==============================] - 0s 3ms/step - loss: 0.0152 - val_loss: 0.1009\n",
            "Epoch 3/10\n",
            "153/153 [==============================] - 0s 3ms/step - loss: 0.0151 - val_loss: 0.1044\n",
            "Epoch 4/10\n",
            "153/153 [==============================] - 0s 3ms/step - loss: 0.0150 - val_loss: 0.0966\n",
            "Epoch 5/10\n",
            "153/153 [==============================] - 0s 3ms/step - loss: 0.0150 - val_loss: 0.0972\n",
            "Epoch 6/10\n",
            "153/153 [==============================] - 0s 3ms/step - loss: 0.0150 - val_loss: 0.0996\n",
            "Epoch 7/10\n",
            "153/153 [==============================] - 0s 3ms/step - loss: 0.0150 - val_loss: 0.0997\n",
            "Epoch 8/10\n",
            "153/153 [==============================] - 0s 3ms/step - loss: 0.0150 - val_loss: 0.1015\n",
            "Epoch 9/10\n",
            "153/153 [==============================] - 0s 3ms/step - loss: 0.0149 - val_loss: 0.0977\n",
            "Epoch 10/10\n",
            "153/153 [==============================] - 0s 3ms/step - loss: 0.0150 - val_loss: 0.1021\n"
          ]
        },
        {
          "output_type": "execute_result",
          "data": {
            "text/plain": [
              "<keras.callbacks.History at 0x7f30aaff3f10>"
            ]
          },
          "metadata": {},
          "execution_count": 16
        }
      ]
    },
    {
      "cell_type": "code",
      "source": [
        "my_model = best_model\n",
        "X_train_tensor = tf.Variable(X_train)\n",
        "X_test_tensor = tf.Variable(X_test)\n",
        "sum, sum_c = feature_analysis(X_train_tensor, my_model, X_train.columns)\n",
        "sum_test, sum_c_test = feature_analysis(X_test_tensor, my_model, X_train.columns)\n",
        "\n",
        "fig,axs = plt.subplots(1,2, figsize=(12,12), sharey= True)\n",
        "\n",
        "fi_train = pd.DataFrame(sum[\"feature_importance\"])\n",
        "fi_train.loc[:, \"feature_importance_abs\"] = fi_train.feature_importance.abs()\n",
        "fi_train.sort_values(by=\"feature_importance_abs\", ascending=True, inplace =True)\n",
        "fi_train.plot.barh(ax=axs[0])\n",
        "\n",
        "fi_test = pd.DataFrame(sum_test[\"feature_importance\"])\n",
        "fi_test.loc[:, \"feature_importance_abs\"] = fi_test.feature_importance.abs()\n",
        "fi_test.sort_values(by=\"feature_importance_abs\", ascending=True, inplace =True)\n",
        "fi_test.plot.barh(ax=axs[1])\n",
        "\n",
        "axs[0].legend(bbox_to_anchor=(0.95,1.1))\n",
        "axs[1].legend(bbox_to_anchor=(0.95,1.1))\n",
        "\n",
        "display(sum_c)"
      ],
      "metadata": {
        "id": "2LN-fIm4aQDT",
        "colab": {
          "base_uri": "https://localhost:8080/",
          "height": 886
        },
        "outputId": "0065e502-9e98-4745-f12f-3dccb24e976a"
      },
      "execution_count": null,
      "outputs": [
        {
          "output_type": "display_data",
          "data": {
            "text/plain": [
              "                book_to_market  market_cap      beta  feature_importance\n",
              "book_to_market        1.000000    0.892075  0.992832            1.000000\n",
              "market_cap            0.892075    1.000000  0.839853            0.880811\n",
              "beta                  0.992832    0.839853  0.999795            0.992423"
            ],
            "text/html": [
              "\n",
              "  <div id=\"df-8d4b2733-db03-4d6c-980d-85ec7fef7915\">\n",
              "    <div class=\"colab-df-container\">\n",
              "      <div>\n",
              "<style scoped>\n",
              "    .dataframe tbody tr th:only-of-type {\n",
              "        vertical-align: middle;\n",
              "    }\n",
              "\n",
              "    .dataframe tbody tr th {\n",
              "        vertical-align: top;\n",
              "    }\n",
              "\n",
              "    .dataframe thead th {\n",
              "        text-align: right;\n",
              "    }\n",
              "</style>\n",
              "<table border=\"1\" class=\"dataframe\">\n",
              "  <thead>\n",
              "    <tr style=\"text-align: right;\">\n",
              "      <th></th>\n",
              "      <th>book_to_market</th>\n",
              "      <th>market_cap</th>\n",
              "      <th>beta</th>\n",
              "      <th>feature_importance</th>\n",
              "    </tr>\n",
              "  </thead>\n",
              "  <tbody>\n",
              "    <tr>\n",
              "      <th>book_to_market</th>\n",
              "      <td>1.000000</td>\n",
              "      <td>0.892075</td>\n",
              "      <td>0.992832</td>\n",
              "      <td>1.000000</td>\n",
              "    </tr>\n",
              "    <tr>\n",
              "      <th>market_cap</th>\n",
              "      <td>0.892075</td>\n",
              "      <td>1.000000</td>\n",
              "      <td>0.839853</td>\n",
              "      <td>0.880811</td>\n",
              "    </tr>\n",
              "    <tr>\n",
              "      <th>beta</th>\n",
              "      <td>0.992832</td>\n",
              "      <td>0.839853</td>\n",
              "      <td>0.999795</td>\n",
              "      <td>0.992423</td>\n",
              "    </tr>\n",
              "  </tbody>\n",
              "</table>\n",
              "</div>\n",
              "      <button class=\"colab-df-convert\" onclick=\"convertToInteractive('df-8d4b2733-db03-4d6c-980d-85ec7fef7915')\"\n",
              "              title=\"Convert this dataframe to an interactive table.\"\n",
              "              style=\"display:none;\">\n",
              "        \n",
              "  <svg xmlns=\"http://www.w3.org/2000/svg\" height=\"24px\"viewBox=\"0 0 24 24\"\n",
              "       width=\"24px\">\n",
              "    <path d=\"M0 0h24v24H0V0z\" fill=\"none\"/>\n",
              "    <path d=\"M18.56 5.44l.94 2.06.94-2.06 2.06-.94-2.06-.94-.94-2.06-.94 2.06-2.06.94zm-11 1L8.5 8.5l.94-2.06 2.06-.94-2.06-.94L8.5 2.5l-.94 2.06-2.06.94zm10 10l.94 2.06.94-2.06 2.06-.94-2.06-.94-.94-2.06-.94 2.06-2.06.94z\"/><path d=\"M17.41 7.96l-1.37-1.37c-.4-.4-.92-.59-1.43-.59-.52 0-1.04.2-1.43.59L10.3 9.45l-7.72 7.72c-.78.78-.78 2.05 0 2.83L4 21.41c.39.39.9.59 1.41.59.51 0 1.02-.2 1.41-.59l7.78-7.78 2.81-2.81c.8-.78.8-2.07 0-2.86zM5.41 20L4 18.59l7.72-7.72 1.47 1.35L5.41 20z\"/>\n",
              "  </svg>\n",
              "      </button>\n",
              "      \n",
              "  <style>\n",
              "    .colab-df-container {\n",
              "      display:flex;\n",
              "      flex-wrap:wrap;\n",
              "      gap: 12px;\n",
              "    }\n",
              "\n",
              "    .colab-df-convert {\n",
              "      background-color: #E8F0FE;\n",
              "      border: none;\n",
              "      border-radius: 50%;\n",
              "      cursor: pointer;\n",
              "      display: none;\n",
              "      fill: #1967D2;\n",
              "      height: 32px;\n",
              "      padding: 0 0 0 0;\n",
              "      width: 32px;\n",
              "    }\n",
              "\n",
              "    .colab-df-convert:hover {\n",
              "      background-color: #E2EBFA;\n",
              "      box-shadow: 0px 1px 2px rgba(60, 64, 67, 0.3), 0px 1px 3px 1px rgba(60, 64, 67, 0.15);\n",
              "      fill: #174EA6;\n",
              "    }\n",
              "\n",
              "    [theme=dark] .colab-df-convert {\n",
              "      background-color: #3B4455;\n",
              "      fill: #D2E3FC;\n",
              "    }\n",
              "\n",
              "    [theme=dark] .colab-df-convert:hover {\n",
              "      background-color: #434B5C;\n",
              "      box-shadow: 0px 1px 3px 1px rgba(0, 0, 0, 0.15);\n",
              "      filter: drop-shadow(0px 1px 2px rgba(0, 0, 0, 0.3));\n",
              "      fill: #FFFFFF;\n",
              "    }\n",
              "  </style>\n",
              "\n",
              "      <script>\n",
              "        const buttonEl =\n",
              "          document.querySelector('#df-8d4b2733-db03-4d6c-980d-85ec7fef7915 button.colab-df-convert');\n",
              "        buttonEl.style.display =\n",
              "          google.colab.kernel.accessAllowed ? 'block' : 'none';\n",
              "\n",
              "        async function convertToInteractive(key) {\n",
              "          const element = document.querySelector('#df-8d4b2733-db03-4d6c-980d-85ec7fef7915');\n",
              "          const dataTable =\n",
              "            await google.colab.kernel.invokeFunction('convertToInteractive',\n",
              "                                                     [key], {});\n",
              "          if (!dataTable) return;\n",
              "\n",
              "          const docLinkHtml = 'Like what you see? Visit the ' +\n",
              "            '<a target=\"_blank\" href=https://colab.research.google.com/notebooks/data_table.ipynb>data table notebook</a>'\n",
              "            + ' to learn more about interactive tables.';\n",
              "          element.innerHTML = '';\n",
              "          dataTable['output_type'] = 'display_data';\n",
              "          await google.colab.output.renderOutput(dataTable, element);\n",
              "          const docLink = document.createElement('div');\n",
              "          docLink.innerHTML = docLinkHtml;\n",
              "          element.appendChild(docLink);\n",
              "        }\n",
              "      </script>\n",
              "    </div>\n",
              "  </div>\n",
              "  "
            ]
          },
          "metadata": {}
        },
        {
          "output_type": "display_data",
          "data": {
            "text/plain": [
              "<Figure size 864x864 with 2 Axes>"
            ],
            "image/png": "[encoded data removed]"
          },
          "metadata": {
            "needs_background": "light"
          }
        }
      ]
    },
    {
      "cell_type": "markdown",
      "source": [
        "# Conclusion\n",
        "\n",
        "In conclusion, based on the results of our 3 models, we can confirm that in this dataset the neural networks have a better performance using the mean absolute error as our evaluation method. It is visualized that the neural network is able to find a different relationship between our features that result in less error. If we take a closer look at our optimized neural network, we see that it uses Tanh as its activation function and this model has the best result out of the 3 trained models in this assignment. This means that there is a non-linear relationship. The linear regression model does not use the beta for calculating the discr_r. When comparing this model to the neural network we can see that beta has a negative impact on the output and uses the 3 available features. Therefore, it can be concluded that the linear regression model does not consider the relationship that beta with either book_to_market or market_cap has or the way that these interact with each other.\n",
        "\n"
      ],
      "metadata": {
        "id": "gn1e2UwBSHze"
      }
    }
  ]
}